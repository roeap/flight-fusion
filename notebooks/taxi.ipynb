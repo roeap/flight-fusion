{
 "cells": [
  {
   "cell_type": "code",
   "execution_count": null,
   "metadata": {},
   "outputs": [],
   "source": [
    "import requests\n",
    "import pyarrow.parquet as pq\n",
    "import pyarrow as pa\n",
    "\n",
    "_TAXI_SCHEMA_RAW = pa.schema(\n",
    "    [\n",
    "        pa.field(\"VendorID\", pa.int64()),\n",
    "        pa.field(\"tpep_pickup_datetime\", pa.timestamp(\"us\")),\n",
    "        pa.field(\"tpep_dropoff_datetime\", pa.timestamp(\"us\")),\n",
    "        pa.field(\"passenger_count\", pa.float64()),\n",
    "        pa.field(\"trip_distance\", pa.float64()),\n",
    "        pa.field(\"RatecodeID\", pa.float64()),\n",
    "        pa.field(\"store_and_fwd_flag\", pa.string()),\n",
    "        pa.field(\"PULocationID\", pa.int64()),\n",
    "        pa.field(\"DOLocationID\", pa.int64()),\n",
    "        pa.field(\"payment_type\", pa.int64()),\n",
    "        pa.field(\"fare_amount\", pa.float64()),\n",
    "        pa.field(\"extra\", pa.float64()),\n",
    "        pa.field(\"mta_tax\", pa.float64()),\n",
    "        pa.field(\"tip_amount\", pa.float64()),\n",
    "        pa.field(\"tolls_amount\", pa.float64()),\n",
    "        pa.field(\"improvement_surcharge\", pa.float64()),\n",
    "        pa.field(\"total_amount\", pa.float64()),\n",
    "        pa.field(\"congestion_surcharge\", pa.float64()),\n",
    "        pa.field(\"airport_fee\", pa.float64()),\n",
    "    ]\n",
    ")\n",
    "\n",
    "url = \"https://s3.amazonaws.com/nyc-tlc/tripdata/yellow_tripdata_2015-01.parquet\"\n",
    "\n",
    "# response = requests.get(url)\n",
    "# table = pq.read_table(pa.py_buffer(response.content), schema=_TAXI_SCHEMA_RAW)\n",
    "# pq.write_table(table, \"yellow_tripdata_2022-03.parquet\")\n",
    "# open(\"yellow_tripdata_2015-01.parquet\", \"wb\").write(response.content)"
   ]
  },
  {
   "cell_type": "code",
   "execution_count": null,
   "metadata": {},
   "outputs": [],
   "source": [
    "from urllib.parse import urlparse, urljoin\n",
    "from pathlib import Path\n",
    "\n",
    "base = \"https://s3.amazonaws.com/nyc-tlc/trip+data/yellow_tripdata_{}.parquet\"\n",
    "base = \"https://azureopendatastorage.blob.core.windows.net/\"\n",
    "base.format(\"20115-01\")"
   ]
  },
  {
   "cell_type": "markdown",
   "metadata": {},
   "source": [
    "#### generate test data"
   ]
  },
  {
   "cell_type": "code",
   "execution_count": null,
   "metadata": {},
   "outputs": [],
   "source": [
    "import pandas as pd\n",
    "import pyarrow.parquet as pq\n",
    "import pyarrow as pa\n",
    "from numpy.random import default_rng\n",
    "\n",
    "path = \"yellow_tripdata_2015-01.parquet\"\n",
    "table = pq.read_table(path, schema=_TAXI_SCHEMA_RAW)\n",
    "table.schema"
   ]
  },
  {
   "cell_type": "code",
   "execution_count": null,
   "metadata": {},
   "outputs": [],
   "source": [
    "table = table.add_column(0, pa.field(\"year\", pa.int64()), [[int(2022)] * table.shape[0]])\n",
    "table.schema"
   ]
  },
  {
   "cell_type": "code",
   "execution_count": null,
   "metadata": {},
   "outputs": [],
   "source": [
    "rng = default_rng()\n",
    "rows = rng.choice(table.shape[0], size=100, replace=False)\n",
    "table = table.take(rows)\n",
    "pq.write_table(table, \"../examples/model-training/tests/data/taxi/2015-01.parquet\")"
   ]
  },
  {
   "cell_type": "code",
   "execution_count": null,
   "metadata": {},
   "outputs": [],
   "source": [
    "table = pq.read_table(\"../examples/model-training/tests/data/taxi/2015-01.parquet\", schema=_TAXI_SCHEMA_RAW)\n",
    "partition_key = \"2015-01-01\"\n",
    "_RENAME_MAP = {\"VendorID\": \"vendor_id\", \"PULocationID\": \"pu_location_id\", \"DOLocationID\": \"do_location_id\"}\n",
    "columns = [_RENAME_MAP.get(col, col) for col in table.column_names]\n",
    "table = table.rename_columns(columns)\n",
    "table = table.add_column(0, pa.field(\"year\", pa.int64()), [[int(partition_key[:4])] * table.shape[0]])\n",
    "table = table.add_column(1, pa.field(\"month\", pa.int64()), [[int(partition_key[5:-3])] * table.shape[0]])"
   ]
  },
  {
   "cell_type": "code",
   "execution_count": null,
   "metadata": {},
   "outputs": [],
   "source": [
    "from flight_fusion import FusionServiceClient, ClientOptions, AssetKey\n",
    "ffc = FusionServiceClient(ClientOptions(host=\"localhost\", port=50051))\n",
    "fds = ffc.get_dataset_client(AssetKey([\"taxi\", \"partitioned2\"]))\n",
    "fds.write_into(table, partition_by=[\"year\", \"month\"])"
   ]
  },
  {
   "cell_type": "code",
   "execution_count": null,
   "metadata": {},
   "outputs": [],
   "source": [
    "df = fds.load()"
   ]
  },
  {
   "cell_type": "code",
   "execution_count": null,
   "metadata": {},
   "outputs": [],
   "source": [
    "df.shape"
   ]
  }
 ],
 "metadata": {
  "kernelspec": {
   "display_name": "Python 3.10.2 ('workspace-flight-fusion-jOezzoJ6-py3.10')",
   "language": "python",
   "name": "python3"
  },
  "language_info": {
   "codemirror_mode": {
    "name": "ipython",
    "version": 3
   },
   "file_extension": ".py",
   "mimetype": "text/x-python",
   "name": "python",
   "nbconvert_exporter": "python",
   "pygments_lexer": "ipython3",
   "version": "3.10.2"
  },
  "orig_nbformat": 4,
  "vscode": {
   "interpreter": {
    "hash": "1ef538eb184aaebad22e1576cbc02a4883cbaf547ee83f087cc18cec7532039b"
   }
  }
 },
 "nbformat": 4,
 "nbformat_minor": 2
}
