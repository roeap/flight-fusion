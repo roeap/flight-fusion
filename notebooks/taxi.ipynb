{
 "cells": [
  {
   "cell_type": "code",
   "execution_count": null,
   "metadata": {},
   "outputs": [],
   "source": []
  },
  {
   "cell_type": "code",
   "execution_count": 2,
   "metadata": {},
   "outputs": [],
   "source": [
    "import requests\n",
    "import pyarrow.parquet as pq\n",
    "import pyarrow as pa\n",
    "\n",
    "_TAXI_SCHEMA_RAW = pa.schema(\n",
    "    [\n",
    "        pa.field(\"VendorID\", pa.int64()),\n",
    "        pa.field(\"tpep_pickup_datetime\", pa.timestamp(\"us\")),\n",
    "        pa.field(\"tpep_dropoff_datetime\", pa.timestamp(\"us\")),\n",
    "        pa.field(\"passenger_count\", pa.float64()),\n",
    "        pa.field(\"trip_distance\", pa.float64()),\n",
    "        pa.field(\"RatecodeID\", pa.float64()),\n",
    "        pa.field(\"store_and_fwd_flag\", pa.string()),\n",
    "        pa.field(\"PULocationID\", pa.int64()),\n",
    "        pa.field(\"DOLocationID\", pa.int64()),\n",
    "        pa.field(\"payment_type\", pa.int64()),\n",
    "        pa.field(\"fare_amount\", pa.float64()),\n",
    "        pa.field(\"extra\", pa.float64()),\n",
    "        pa.field(\"mta_tax\", pa.float64()),\n",
    "        pa.field(\"tip_amount\", pa.float64()),\n",
    "        pa.field(\"tolls_amount\", pa.float64()),\n",
    "        pa.field(\"improvement_surcharge\", pa.float64()),\n",
    "        pa.field(\"total_amount\", pa.float64()),\n",
    "        pa.field(\"congestion_surcharge\", pa.float64()),\n",
    "        pa.field(\"airport_fee\", pa.float64()),\n",
    "    ]\n",
    ")\n",
    "\n",
    "# url = \"https://s3.amazonaws.com/nyc-tlc/trip+data/yellow_tripdata_2015-01.parquet\"\n",
    "\n",
    "# response = requests.get(url)\n",
    "# table = pq.read_table(pa.py_buffer(response.content), schema=_TAXI_SCHEMA_RAW)\n",
    "# pq.write_table(table, \"yellow_tripdata_2022-03.parquet\")\n",
    "# open(\"yellow_tripdata_2015-01.parquet\", \"wb\").write(response.content)"
   ]
  },
  {
   "cell_type": "code",
   "execution_count": null,
   "metadata": {},
   "outputs": [],
   "source": [
    "from urllib.parse import urlparse, urljoin\n",
    "from pathlib import Path\n",
    "\n",
    "base = \"https://s3.amazonaws.com/nyc-tlc/trip+data/yellow_tripdata_{}.parquet\"\n",
    "base.format(\"20115-01\")"
   ]
  },
  {
   "cell_type": "markdown",
   "metadata": {},
   "source": [
    "#### generate test data"
   ]
  },
  {
   "cell_type": "code",
   "execution_count": 4,
   "metadata": {},
   "outputs": [],
   "source": [
    "import pandas as pd\n",
    "import pyarrow.parquet as pq\n",
    "import pyarrow as pa\n",
    "from numpy.random import default_rng\n",
    "\n",
    "path = \"yellow_tripdata_2015-01.parquet\"\n",
    "table = pq.read_table(path, schema=_TAXI_SCHEMA_RAW)\n"
   ]
  },
  {
   "cell_type": "code",
   "execution_count": 5,
   "metadata": {},
   "outputs": [
    {
     "data": {
      "text/plain": [
       "VendorID: int64\n",
       "tpep_pickup_datetime: timestamp[us]\n",
       "tpep_dropoff_datetime: timestamp[us]\n",
       "passenger_count: double\n",
       "trip_distance: double\n",
       "RatecodeID: double\n",
       "store_and_fwd_flag: string\n",
       "PULocationID: int64\n",
       "DOLocationID: int64\n",
       "payment_type: int64\n",
       "fare_amount: double\n",
       "extra: double\n",
       "mta_tax: double\n",
       "tip_amount: double\n",
       "tolls_amount: double\n",
       "improvement_surcharge: double\n",
       "total_amount: double\n",
       "congestion_surcharge: double\n",
       "airport_fee: double"
      ]
     },
     "execution_count": 5,
     "metadata": {},
     "output_type": "execute_result"
    }
   ],
   "source": [
    "table.schema"
   ]
  },
  {
   "cell_type": "code",
   "execution_count": 6,
   "metadata": {},
   "outputs": [
    {
     "data": {
      "text/plain": [
       "year: int64\n",
       "VendorID: int64\n",
       "tpep_pickup_datetime: timestamp[us]\n",
       "tpep_dropoff_datetime: timestamp[us]\n",
       "passenger_count: double\n",
       "trip_distance: double\n",
       "RatecodeID: double\n",
       "store_and_fwd_flag: string\n",
       "PULocationID: int64\n",
       "DOLocationID: int64\n",
       "payment_type: int64\n",
       "fare_amount: double\n",
       "extra: double\n",
       "mta_tax: double\n",
       "tip_amount: double\n",
       "tolls_amount: double\n",
       "improvement_surcharge: double\n",
       "total_amount: double\n",
       "congestion_surcharge: double\n",
       "airport_fee: double"
      ]
     },
     "execution_count": 6,
     "metadata": {},
     "output_type": "execute_result"
    }
   ],
   "source": [
    "table = table.add_column(0, pa.field(\"year\", pa.int64()), [[int(2022)] * table.shape[0]])\n",
    "table.schema"
   ]
  },
  {
   "cell_type": "code",
   "execution_count": null,
   "metadata": {},
   "outputs": [],
   "source": [
    "rng = default_rng()\n",
    "rows = rng.choice(table.shape[0], size=100, replace=False)\n",
    "table = table.take(rows)\n",
    "pq.write_table(table, \"../examples/model-training/tests/data/taxi/2015-01.parquet\")"
   ]
  }
 ],
 "metadata": {
  "kernelspec": {
   "display_name": "Python 3.10.2 ('workspace-flight-fusion-jOezzoJ6-py3.10')",
   "language": "python",
   "name": "python3"
  },
  "language_info": {
   "codemirror_mode": {
    "name": "ipython",
    "version": 3
   },
   "file_extension": ".py",
   "mimetype": "text/x-python",
   "name": "python",
   "nbconvert_exporter": "python",
   "pygments_lexer": "ipython3",
   "version": "3.10.2"
  },
  "orig_nbformat": 4,
  "vscode": {
   "interpreter": {
    "hash": "1ef538eb184aaebad22e1576cbc02a4883cbaf547ee83f087cc18cec7532039b"
   }
  }
 },
 "nbformat": 4,
 "nbformat_minor": 2
}
