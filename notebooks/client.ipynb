{
 "cells": [
  {
   "cell_type": "markdown",
   "metadata": {},
   "source": [
    "### Connecting to the service\n",
    "\n",
    "To start working with the flight fusion service, let's start a local instance.\n",
    "\n",
    "```sh\n",
    "fusion server start\n",
    "```"
   ]
  },
  {
   "cell_type": "code",
   "execution_count": null,
   "metadata": {},
   "outputs": [],
   "source": [
    "from flight_fusion import FusionServiceClient, ClientOptions, AssetKey\n",
    "from flight_fusion.ipc.v1alpha1 import SaveMode, AreaSourceReference, AreaSourceMetadata\n",
    "import numpy as np\n",
    "import pandas as pd\n",
    "import warnings\n",
    "import dagster\n",
    "\n",
    "warnings.filterwarnings(\"ignore\", category=dagster.ExperimentalWarning)\n",
    "\n",
    "# lets also define some test data to interact with the service\n",
    "np.random.seed(42)\n",
    "df_example = pd.DataFrame(np.random.randn(5, 3), columns=[\"col1\", \"col2\", \"col3\"])\n",
    "\n",
    "# and create an instance of the service client\n",
    "ffc = FusionServiceClient(ClientOptions(host=\"localhost\", port=50051))"
   ]
  },
  {
   "cell_type": "markdown",
   "metadata": {},
   "source": [
    "### Discovery and metadata"
   ]
  },
  {
   "cell_type": "code",
   "execution_count": null,
   "metadata": {},
   "outputs": [],
   "source": [
    "available_datasets = ffc.list_datasets()\n",
    "fds = ffc.get_dataset_client(available_datasets[3].asset_key)\n",
    "fds.get_metadata()"
   ]
  },
  {
   "cell_type": "code",
   "execution_count": null,
   "metadata": {},
   "outputs": [],
   "source": [
    "import plotly.express as px\n",
    "from app.themes import theme_light\n",
    "\n",
    "data = fds.load(columns=[\"col1\", \"col3\"]).to_pandas()\n",
    "px.scatter(data, x=\"col1\", y=\"col3\", template=theme_light)"
   ]
  },
  {
   "cell_type": "markdown",
   "metadata": {},
   "source": [
    "### Writing and reading data"
   ]
  },
  {
   "cell_type": "markdown",
   "metadata": {},
   "source": [
    "#### Dataset Client"
   ]
  },
  {
   "cell_type": "code",
   "execution_count": null,
   "metadata": {},
   "outputs": [],
   "source": [
    "# when interacting with a single dataset, you need a dataset client\n",
    "fds = ffc.get_dataset_client(AssetKey([\"demo\", \"new_dataset\"]))"
   ]
  },
  {
   "cell_type": "code",
   "execution_count": null,
   "metadata": {},
   "outputs": [],
   "source": [
    "# write data into dataset\n",
    "fds.write_into(df_example, SaveMode.SAVE_MODE_OVERWRITE)"
   ]
  },
  {
   "cell_type": "code",
   "execution_count": null,
   "metadata": {},
   "outputs": [],
   "source": [
    "# to retrieve data, you can load the entire table ...\n",
    "df = fds.load().to_pandas()\n",
    "\n",
    "# ... or execute a query against it\n",
    "df_query = fds.query(\"SELECT avg(col1) FROM new_dataset\").to_pandas()\n",
    "\n",
    "df.shape, df_query.shape"
   ]
  },
  {
   "cell_type": "code",
   "execution_count": null,
   "metadata": {},
   "outputs": [],
   "source": [
    "fds.load(columns=[\"col2\", \"col3\"]).to_pandas()"
   ]
  },
  {
   "cell_type": "markdown",
   "metadata": {},
   "source": [
    "#### Versioned Dataset Client"
   ]
  },
  {
   "cell_type": "code",
   "execution_count": null,
   "metadata": {},
   "outputs": [],
   "source": [
    "# getting a client for versioned or regular datasets works the same way\n",
    "vds = ffc.get_dataset_client(AssetKey([\"demo\", \"new_versioned_dataset\"]))\n",
    "\n",
    "vds.write_into(df_example, SaveMode.SAVE_MODE_OVERWRITE)"
   ]
  },
  {
   "cell_type": "code",
   "execution_count": null,
   "metadata": {},
   "outputs": [],
   "source": [
    "df = vds.load(columns=[\"col1\", \"col3\"])\n",
    "df.to_pandas()"
   ]
  },
  {
   "cell_type": "markdown",
   "metadata": {},
   "source": [
    "#### Querying multiple datasets"
   ]
  },
  {
   "cell_type": "code",
   "execution_count": null,
   "metadata": {},
   "outputs": [],
   "source": [
    "fds_1 = ffc.get_dataset_client(AssetKey([\"table_1\"]))\n",
    "fds_1.write_into(df_example)\n",
    "\n",
    "fds_2 = ffc.get_dataset_client(AssetKey([\"table_2\"]))\n",
    "fds_2.write_into(df_example)\n",
    "\n",
    "ctx = ffc.get_context([AssetKey([\"table_1\"]), AssetKey([\"table_2\"])])\n",
    "query = \"SELECT * FROM table_1 UNION ALL SELECT * FROM table_2\"\n",
    "df = ctx.query(query).to_pandas()\n",
    "\n",
    "df\n"
   ]
  }
 ],
 "metadata": {
  "interpreter": {
   "hash": "1ef538eb184aaebad22e1576cbc02a4883cbaf547ee83f087cc18cec7532039b"
  },
  "kernelspec": {
   "display_name": "Python 3.10.2 ('workspace-flight-fusion-jOezzoJ6-py3.10')",
   "language": "python",
   "name": "python3"
  },
  "language_info": {
   "codemirror_mode": {
    "name": "ipython",
    "version": 3
   },
   "file_extension": ".py",
   "mimetype": "text/x-python",
   "name": "python",
   "nbconvert_exporter": "python",
   "pygments_lexer": "ipython3",
   "version": "3.10.2"
  },
  "orig_nbformat": 4
 },
 "nbformat": 4,
 "nbformat_minor": 2
}
