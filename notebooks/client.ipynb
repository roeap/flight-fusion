{
 "cells": [
  {
   "cell_type": "code",
   "execution_count": 7,
   "metadata": {},
   "outputs": [],
   "source": [
    "from flight_fusion import FlightFusionClient\n",
    "import numpy as np\n",
    "import pandas as pd\n",
    "from flight_fusion.proto.common_pb2 import DeltaReference, SaveMode\n",
    "from pathlib import Path\n",
    "\n",
    "ffc = FlightFusionClient()\n",
    "\n",
    "delta_path =  str(Path.cwd() / \"delta\")"
   ]
  },
  {
   "cell_type": "code",
   "execution_count": null,
   "metadata": {},
   "outputs": [],
   "source": [
    "np.random.seed(42)  \n",
    "df = pd.DataFrame(np.random.randn(500000, 20), columns=list('qwertzuiopasdfghjkly'))\n",
    "ffc.register_dataset(None, None, \"upload\", df)"
   ]
  },
  {
   "cell_type": "code",
   "execution_count": 10,
   "metadata": {},
   "outputs": [],
   "source": [
    "np.random.seed(42)  \n",
    "df = pd.DataFrame(np.random.randn(500, 3), columns=[\"col1\", \"col2\", \"col3\"])\n",
    "ffc.write_into_delta(None, None, delta_path, SaveMode.SAVE_MODE_OVERWRITE, df)"
   ]
  },
  {
   "cell_type": "code",
   "execution_count": null,
   "metadata": {},
   "outputs": [],
   "source": [
    "query = \"SELECT j as x_axis, w as y_axis FROM catalog.schema.upload WHERE q > 0\"\n",
    "table = ffc.execute_query(query).to_pandas()\n",
    "table.sample(10)"
   ]
  },
  {
   "cell_type": "code",
   "execution_count": null,
   "metadata": {},
   "outputs": [],
   "source": [
    "ffc.register_remote_dataset(None, None, \"upload_remote\", \"test/flight/largish2.parquet\")"
   ]
  },
  {
   "cell_type": "code",
   "execution_count": null,
   "metadata": {},
   "outputs": [],
   "source": [
    "query = 'SELECT * FROM catalog.schema.upload_remote WHERE A > 0 LIMIT 100'\n",
    "ffc.execute_query(query).to_pandas()"
   ]
  },
  {
   "cell_type": "code",
   "execution_count": null,
   "metadata": {},
   "outputs": [],
   "source": [
    "query = \"SELECT count(l) FROM catalog.schema.upload\"\n",
    "ffc.execute_query(query).to_pandas()"
   ]
  },
  {
   "cell_type": "code",
   "execution_count": null,
   "metadata": {},
   "outputs": [],
   "source": [
    "query = \"select * from information_schema.columns\"\n",
    "ffc.execute_query(query).to_pandas()"
   ]
  },
  {
   "cell_type": "code",
   "execution_count": null,
   "metadata": {},
   "outputs": [],
   "source": [
    "arr = table.column(\"x_axis\").to_pandas()\n",
    "arr"
   ]
  }
 ],
 "metadata": {
  "interpreter": {
   "hash": "64821138d70fbed1f5af95a20e70605ae349b26fe4528557a57e6aa1996f78d9"
  },
  "kernelspec": {
   "display_name": "Python 3.8.10 64-bit ('workspace-flight-fusion-jOezzoJ6-py3.8': poetry)",
   "language": "python",
   "name": "python3"
  },
  "language_info": {
   "codemirror_mode": {
    "name": "ipython",
    "version": 3
   },
   "file_extension": ".py",
   "mimetype": "text/x-python",
   "name": "python",
   "nbconvert_exporter": "python",
   "pygments_lexer": "ipython3",
   "version": "3.8.10"
  },
  "orig_nbformat": 4
 },
 "nbformat": 4,
 "nbformat_minor": 2
}
