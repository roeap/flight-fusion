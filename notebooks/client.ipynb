{
 "cells": [
  {
   "cell_type": "markdown",
   "metadata": {},
   "source": [
    "### Connecting to the service\n",
    "\n",
    "To start working with the flight fusion service, let's start a local instance.\n",
    "\n",
    "```sh\n",
    "fusion server start\n",
    "```"
   ]
  },
  {
   "cell_type": "code",
   "execution_count": null,
   "metadata": {},
   "outputs": [],
   "source": [
    "from flight_fusion import FusionServiceClient, ClientOptions, AssetKey\n",
    "from flight_fusion.ipc.v1alpha1 import SaveMode, AreaSourceReference, AreaSourceMetadata\n",
    "import numpy as np\n",
    "import pandas as pd\n",
    "import warnings\n",
    "import dagster\n",
    "\n",
    "warnings.filterwarnings(\"ignore\", category=dagster.ExperimentalWarning)\n",
    "\n",
    "# lets also define some test data to interact with the service\n",
    "np.random.seed(42)\n",
    "df_example = pd.DataFrame(np.random.randn(5, 3), columns=[\"col1\", \"col2\", \"col3\"])\n",
    "\n",
    "# and create an instance of the service client\n",
    "ffc = FusionServiceClient(ClientOptions(host=\"localhost\", port=50051))"
   ]
  },
  {
   "cell_type": "markdown",
   "metadata": {},
   "source": [
    "### Discovery and metadata"
   ]
  },
  {
   "cell_type": "code",
   "execution_count": null,
   "metadata": {},
   "outputs": [],
   "source": [
    "available_datasets = ffc.list_datasets()\n",
    "available_datasets"
   ]
  },
  {
   "cell_type": "code",
   "execution_count": 7,
   "metadata": {},
   "outputs": [
    {
     "name": "stdout",
     "output_type": "stream",
     "text": [
      "Unexpected exception formatting exception. Falling back to standard exception\n"
     ]
    },
    {
     "name": "stderr",
     "output_type": "stream",
     "text": [
      "Traceback (most recent call last):\n",
      "  File \"/home/robstar/.cache/pypoetry/virtualenvs/workspace-flight-fusion-jOezzoJ6-py3.10/lib/python3.10/site-packages/IPython/core/interactiveshell.py\", line 3398, in run_code\n",
      "    exec(code_obj, self.user_global_ns, self.user_ns)\n",
      "  File \"/tmp/ipykernel_4696/2944589645.py\", line 2, in <cell line: 2>\n",
      "    fds.get_metadata()\n",
      "  File \"/home/robstar/github/flight-fusion/python/flight-fusion/flight_fusion/clients/data/_dataset.py\", line 83, in get_metadata\n",
      "  File \"pyarrow/_flight.pyx\", line 1401, in pyarrow._flight.FlightClient.get_flight_info\n",
      "  File \"pyarrow/_flight.pyx\", line 64, in pyarrow._flight.check_flight_status\n",
      "pyarrow._flight.FlightCancelledError: Flight cancelled call, with message: Received RST_STREAM with error code 8\n",
      "\n",
      "During handling of the above exception, another exception occurred:\n",
      "\n",
      "Traceback (most recent call last):\n",
      "  File \"/home/robstar/.cache/pypoetry/virtualenvs/workspace-flight-fusion-jOezzoJ6-py3.10/lib/python3.10/site-packages/IPython/core/interactiveshell.py\", line 1993, in showtraceback\n",
      "    stb = self.InteractiveTB.structured_traceback(\n",
      "  File \"/home/robstar/.cache/pypoetry/virtualenvs/workspace-flight-fusion-jOezzoJ6-py3.10/lib/python3.10/site-packages/IPython/core/ultratb.py\", line 1118, in structured_traceback\n",
      "    return FormattedTB.structured_traceback(\n",
      "  File \"/home/robstar/.cache/pypoetry/virtualenvs/workspace-flight-fusion-jOezzoJ6-py3.10/lib/python3.10/site-packages/IPython/core/ultratb.py\", line 1012, in structured_traceback\n",
      "    return VerboseTB.structured_traceback(\n",
      "  File \"/home/robstar/.cache/pypoetry/virtualenvs/workspace-flight-fusion-jOezzoJ6-py3.10/lib/python3.10/site-packages/IPython/core/ultratb.py\", line 865, in structured_traceback\n",
      "    formatted_exception = self.format_exception_as_a_whole(etype, evalue, etb, number_of_lines_of_context,\n",
      "  File \"/home/robstar/.cache/pypoetry/virtualenvs/workspace-flight-fusion-jOezzoJ6-py3.10/lib/python3.10/site-packages/IPython/core/ultratb.py\", line 818, in format_exception_as_a_whole\n",
      "    frames.append(self.format_record(r))\n",
      "  File \"/home/robstar/.cache/pypoetry/virtualenvs/workspace-flight-fusion-jOezzoJ6-py3.10/lib/python3.10/site-packages/IPython/core/ultratb.py\", line 736, in format_record\n",
      "    result += ''.join(_format_traceback_lines(frame_info.lines, Colors, self.has_colors, lvals))\n",
      "  File \"/home/robstar/.cache/pypoetry/virtualenvs/workspace-flight-fusion-jOezzoJ6-py3.10/lib/python3.10/site-packages/stack_data/utils.py\", line 145, in cached_property_wrapper\n",
      "    value = obj.__dict__[self.func.__name__] = self.func(obj)\n",
      "  File \"/home/robstar/.cache/pypoetry/virtualenvs/workspace-flight-fusion-jOezzoJ6-py3.10/lib/python3.10/site-packages/stack_data/core.py\", line 698, in lines\n",
      "    pieces = self.included_pieces\n",
      "  File \"/home/robstar/.cache/pypoetry/virtualenvs/workspace-flight-fusion-jOezzoJ6-py3.10/lib/python3.10/site-packages/stack_data/utils.py\", line 145, in cached_property_wrapper\n",
      "    value = obj.__dict__[self.func.__name__] = self.func(obj)\n",
      "  File \"/home/robstar/.cache/pypoetry/virtualenvs/workspace-flight-fusion-jOezzoJ6-py3.10/lib/python3.10/site-packages/stack_data/core.py\", line 649, in included_pieces\n",
      "    pos = scope_pieces.index(self.executing_piece)\n",
      "  File \"/home/robstar/.cache/pypoetry/virtualenvs/workspace-flight-fusion-jOezzoJ6-py3.10/lib/python3.10/site-packages/stack_data/utils.py\", line 145, in cached_property_wrapper\n",
      "    value = obj.__dict__[self.func.__name__] = self.func(obj)\n",
      "  File \"/home/robstar/.cache/pypoetry/virtualenvs/workspace-flight-fusion-jOezzoJ6-py3.10/lib/python3.10/site-packages/stack_data/core.py\", line 628, in executing_piece\n",
      "    return only(\n",
      "  File \"/home/robstar/.cache/pypoetry/virtualenvs/workspace-flight-fusion-jOezzoJ6-py3.10/lib/python3.10/site-packages/executing/executing.py\", line 164, in only\n",
      "    raise NotOneValueFound('Expected one value, found 0')\n",
      "executing.executing.NotOneValueFound: Expected one value, found 0\n"
     ]
    }
   ],
   "source": [
    "fds = ffc.get_dataset_client(AssetKey([\"non\", \"existent\"]))\n",
    "fds.get_metadata()"
   ]
  },
  {
   "cell_type": "code",
   "execution_count": null,
   "metadata": {},
   "outputs": [],
   "source": [
    "fds = ffc.get_versioned_dataset_client(available_datasets[3].asset_key)\n",
    "fds.get_metadata()"
   ]
  },
  {
   "cell_type": "code",
   "execution_count": null,
   "metadata": {},
   "outputs": [],
   "source": [
    "fds.get_metadata()"
   ]
  },
  {
   "cell_type": "code",
   "execution_count": null,
   "metadata": {},
   "outputs": [],
   "source": [
    "import plotly.express as px\n",
    "\n",
    "data = fds.load(columns=[\"col1\", \"col3\"]).to_pandas()"
   ]
  },
  {
   "cell_type": "code",
   "execution_count": null,
   "metadata": {},
   "outputs": [],
   "source": [
    "from app.themes import theme_light\n",
    "\n",
    "px.scatter(data, x=\"col1\", y=\"col3\", template=theme_light)"
   ]
  },
  {
   "cell_type": "markdown",
   "metadata": {},
   "source": [
    "### Writing and reading data"
   ]
  },
  {
   "cell_type": "markdown",
   "metadata": {},
   "source": [
    "#### Dataset Client"
   ]
  },
  {
   "cell_type": "code",
   "execution_count": null,
   "metadata": {},
   "outputs": [],
   "source": [
    "# when interacting with a single dataset, you need a dataset client\n",
    "fds = ffc.get_dataset_client(AssetKey([\"demo\", \"new_dataset\"]))"
   ]
  },
  {
   "cell_type": "code",
   "execution_count": null,
   "metadata": {},
   "outputs": [],
   "source": [
    "# write data into dataset\n",
    "fds.write_into(df_example, SaveMode.SAVE_MODE_OVERWRITE)"
   ]
  },
  {
   "cell_type": "code",
   "execution_count": null,
   "metadata": {},
   "outputs": [],
   "source": [
    "# to retrieve data, you can load the entire table ...\n",
    "df = fds.load().to_pandas()\n",
    "\n",
    "# ... or execute a query against it\n",
    "df_query = fds.query(\"SELECT avg(col1) FROM new_dataset\").to_pandas()\n",
    "\n",
    "df.shape, df_query.shape"
   ]
  },
  {
   "cell_type": "code",
   "execution_count": null,
   "metadata": {},
   "outputs": [],
   "source": [
    "fds.load(columns=[\"col2\", \"col3\"]).to_pandas()"
   ]
  },
  {
   "cell_type": "markdown",
   "metadata": {},
   "source": [
    "#### Versioned Dataset Client"
   ]
  },
  {
   "cell_type": "code",
   "execution_count": null,
   "metadata": {},
   "outputs": [],
   "source": [
    "# getting a client for versioned or regular datasets works the same way\n",
    "vds = ffc.get_versioned_dataset_client(AssetKey([\"demo\", \"new_versioned_dataset\"]))\n",
    "\n",
    "vds.write_into(df_example, SaveMode.SAVE_MODE_OVERWRITE)"
   ]
  },
  {
   "cell_type": "code",
   "execution_count": null,
   "metadata": {},
   "outputs": [],
   "source": [
    "df = vds.load(columns=[\"col1\", \"col3\"])\n",
    "df.to_pandas()"
   ]
  },
  {
   "cell_type": "markdown",
   "metadata": {},
   "source": [
    "#### Querying multiple datasets"
   ]
  },
  {
   "cell_type": "code",
   "execution_count": null,
   "metadata": {},
   "outputs": [],
   "source": [
    "fds_1 = ffc.get_dataset_client(AssetKey([\"table_1\"]))\n",
    "fds_1.write_into(df_example)\n",
    "\n",
    "fds_2 = ffc.get_dataset_client(AssetKey([\"table_2\"]))\n",
    "fds_2.write_into(df_example)\n",
    "\n",
    "ctx = ffc.get_context([(\"table_1\", []), (\"table_2\", [])])\n",
    "query = \"SELECT * FROM table_1 UNION ALL SELECT * FROM table_2\"\n",
    "df = ctx.query(query).to_pandas()\n",
    "\n",
    "df"
   ]
  }
 ],
 "metadata": {
  "interpreter": {
   "hash": "1ef538eb184aaebad22e1576cbc02a4883cbaf547ee83f087cc18cec7532039b"
  },
  "kernelspec": {
   "display_name": "Python 3.10.2 ('workspace-flight-fusion-jOezzoJ6-py3.10')",
   "language": "python",
   "name": "python3"
  },
  "language_info": {
   "codemirror_mode": {
    "name": "ipython",
    "version": 3
   },
   "file_extension": ".py",
   "mimetype": "text/x-python",
   "name": "python",
   "nbconvert_exporter": "python",
   "pygments_lexer": "ipython3",
   "version": "3.10.2"
  },
  "orig_nbformat": 4
 },
 "nbformat": 4,
 "nbformat_minor": 2
}
