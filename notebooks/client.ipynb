{
 "cells": [
  {
   "cell_type": "markdown",
   "metadata": {},
   "source": [
    "### Connecting to the service\n",
    "\n",
    "To start working with the flight fusion service, let's start a local instance.\n",
    "\n",
    "```sh\n",
    "fusion server start\n",
    "```"
   ]
  },
  {
   "cell_type": "code",
   "execution_count": null,
   "metadata": {},
   "outputs": [],
   "source": [
    "from flight_fusion import FusionServiceClient, ClientOptions, AssetKey\n",
    "from flight_fusion.ipc.v1alpha1 import SaveMode\n",
    "import numpy as np\n",
    "import pandas as pd\n",
    "import warnings\n",
    "import dagster\n",
    "from numpy.random import default_rng\n",
    "\n",
    "warnings.filterwarnings(\"ignore\", category=dagster.ExperimentalWarning)\n",
    "\n",
    "rng = default_rng()\n",
    "\n",
    "# lets also define some test data to interact with the service\n",
    "np.random.seed(42)\n",
    "df_example = pd.DataFrame(np.random.randn(100, 3), columns=[\"col1\", \"col2\", \"col3\"])\n",
    "df_example[\"part\"] = rng.choice(3, size=100, replace=True)\n",
    "\n",
    "# and create an instance of the service client\n",
    "ffc = FusionServiceClient(ClientOptions(host=\"localhost\", port=50051))"
   ]
  },
  {
   "cell_type": "markdown",
   "metadata": {},
   "source": [
    "### Discovery and metadata"
   ]
  },
  {
   "cell_type": "code",
   "execution_count": null,
   "metadata": {},
   "outputs": [],
   "source": [
    "available_datasets = ffc.list_datasets()\n",
    "fds = ffc.get_dataset_client(available_datasets[3].asset_key)\n",
    "fds.get_metadata()"
   ]
  },
  {
   "cell_type": "code",
   "execution_count": null,
   "metadata": {},
   "outputs": [],
   "source": [
    "ffc.list_datasets()"
   ]
  },
  {
   "cell_type": "markdown",
   "metadata": {},
   "source": [
    "### Writing and reading data"
   ]
  },
  {
   "cell_type": "markdown",
   "metadata": {},
   "source": [
    "#### Dataset Client"
   ]
  },
  {
   "cell_type": "code",
   "execution_count": null,
   "metadata": {},
   "outputs": [],
   "source": [
    "# when interacting with a single dataset, you need a dataset client\n",
    "fds = ffc.get_dataset_client(AssetKey([\"root\", \"partitioned\"]))"
   ]
  },
  {
   "cell_type": "code",
   "execution_count": null,
   "metadata": {},
   "outputs": [],
   "source": [
    "fds.write_into(df_example, save_mode=SaveMode.SAVE_MODE_OVERWRITE, partition_by=[\"part\"])"
   ]
  },
  {
   "cell_type": "code",
   "execution_count": null,
   "metadata": {},
   "outputs": [],
   "source": [
    "loaded = fds.load()\n",
    "loaded.shape"
   ]
  },
  {
   "cell_type": "code",
   "execution_count": null,
   "metadata": {},
   "outputs": [],
   "source": [
    "loaded.schema"
   ]
  },
  {
   "cell_type": "code",
   "execution_count": null,
   "metadata": {},
   "outputs": [],
   "source": [
    "# write data into dataset\n",
    "fds.write_into(df_example, SaveMode.SAVE_MODE_OVERWRITE)"
   ]
  },
  {
   "cell_type": "code",
   "execution_count": null,
   "metadata": {},
   "outputs": [],
   "source": [
    "# to retrieve data, you can load the entire table ...\n",
    "df = fds.load().to_pandas()\n",
    "\n",
    "# ... or execute a query against it\n",
    "df_query = fds.query(\"SELECT avg(col1) FROM new_dataset\").to_pandas()\n",
    "\n",
    "df.shape, df_query.shape"
   ]
  },
  {
   "cell_type": "code",
   "execution_count": null,
   "metadata": {},
   "outputs": [],
   "source": [
    "fds.load(columns=[\"col2\", \"col3\"]).to_pandas()"
   ]
  },
  {
   "cell_type": "markdown",
   "metadata": {},
   "source": [
    "#### Versioned Dataset Client"
   ]
  },
  {
   "cell_type": "code",
   "execution_count": null,
   "metadata": {},
   "outputs": [],
   "source": [
    "# getting a client for versioned or regular datasets works the same way\n",
    "vds = ffc.get_dataset_client(AssetKey([\"demo\", \"new_versioned_dataset\"]))\n",
    "\n",
    "vds.write_into(df_example, SaveMode.SAVE_MODE_OVERWRITE)"
   ]
  },
  {
   "cell_type": "code",
   "execution_count": null,
   "metadata": {},
   "outputs": [],
   "source": [
    "df = vds.load(columns=[\"col1\", \"col3\"])\n",
    "df.to_pandas()"
   ]
  },
  {
   "cell_type": "markdown",
   "metadata": {},
   "source": [
    "#### Querying multiple datasets"
   ]
  },
  {
   "cell_type": "code",
   "execution_count": null,
   "metadata": {},
   "outputs": [],
   "source": [
    "fds_1 = ffc.get_dataset_client(AssetKey([\"table_1\"]))\n",
    "fds_1.write_into(df_example)\n",
    "\n",
    "fds_2 = ffc.get_dataset_client(AssetKey([\"table_2\"]))\n",
    "fds_2.write_into(df_example)\n",
    "\n",
    "ctx = ffc.get_context([AssetKey([\"table_1\"]), AssetKey([\"table_2\"])])\n",
    "query = \"SELECT * FROM table_1 UNION ALL SELECT * FROM table_2\"\n",
    "df = ctx.query(query).to_pandas()\n",
    "\n",
    "df\n"
   ]
  },
  {
   "cell_type": "code",
   "execution_count": 1,
   "metadata": {},
   "outputs": [
    {
     "ename": "AttributeError",
     "evalue": "'datafusion.SessionContext' object has no attribute 'register_dataset'",
     "output_type": "error",
     "traceback": [
      "\u001b[0;31m---------------------------------------------------------------------------\u001b[0m",
      "\u001b[0;31mAttributeError\u001b[0m                            Traceback (most recent call last)",
      "\u001b[1;32m/home/robstar/github/flight-fusion/notebooks/client.ipynb Cell 20\u001b[0m in \u001b[0;36m<cell line: 13>\u001b[0;34m()\u001b[0m\n\u001b[1;32m      <a href='vscode-notebook-cell://wsl%2Bubuntuargus/home/robstar/github/flight-fusion/notebooks/client.ipynb#X25sdnNjb2RlLXJlbW90ZQ%3D%3D?line=7'>8</a>\u001b[0m batch \u001b[39m=\u001b[39m pa\u001b[39m.\u001b[39mRecordBatch\u001b[39m.\u001b[39mfrom_arrays(\n\u001b[1;32m      <a href='vscode-notebook-cell://wsl%2Bubuntuargus/home/robstar/github/flight-fusion/notebooks/client.ipynb#X25sdnNjb2RlLXJlbW90ZQ%3D%3D?line=8'>9</a>\u001b[0m     [pa\u001b[39m.\u001b[39marray([\u001b[39m1\u001b[39m, \u001b[39m2\u001b[39m, \u001b[39m3\u001b[39m]), pa\u001b[39m.\u001b[39marray([\u001b[39m4\u001b[39m, \u001b[39m5\u001b[39m, \u001b[39m6\u001b[39m])],\n\u001b[1;32m     <a href='vscode-notebook-cell://wsl%2Bubuntuargus/home/robstar/github/flight-fusion/notebooks/client.ipynb#X25sdnNjb2RlLXJlbW90ZQ%3D%3D?line=9'>10</a>\u001b[0m     names\u001b[39m=\u001b[39m[\u001b[39m\"\u001b[39m\u001b[39ma\u001b[39m\u001b[39m\"\u001b[39m, \u001b[39m\"\u001b[39m\u001b[39mb\u001b[39m\u001b[39m\"\u001b[39m],\n\u001b[1;32m     <a href='vscode-notebook-cell://wsl%2Bubuntuargus/home/robstar/github/flight-fusion/notebooks/client.ipynb#X25sdnNjb2RlLXJlbW90ZQ%3D%3D?line=10'>11</a>\u001b[0m )\n\u001b[1;32m     <a href='vscode-notebook-cell://wsl%2Bubuntuargus/home/robstar/github/flight-fusion/notebooks/client.ipynb#X25sdnNjb2RlLXJlbW90ZQ%3D%3D?line=11'>12</a>\u001b[0m dataset \u001b[39m=\u001b[39m ds\u001b[39m.\u001b[39mdataset([batch])\n\u001b[0;32m---> <a href='vscode-notebook-cell://wsl%2Bubuntuargus/home/robstar/github/flight-fusion/notebooks/client.ipynb#X25sdnNjb2RlLXJlbW90ZQ%3D%3D?line=12'>13</a>\u001b[0m ctx\u001b[39m.\u001b[39;49mregister_dataset(\u001b[39m\"\u001b[39m\u001b[39mt\u001b[39m\u001b[39m\"\u001b[39m, dataset)\n\u001b[1;32m     <a href='vscode-notebook-cell://wsl%2Bubuntuargus/home/robstar/github/flight-fusion/notebooks/client.ipynb#X25sdnNjb2RlLXJlbW90ZQ%3D%3D?line=14'>15</a>\u001b[0m result \u001b[39m=\u001b[39m ctx\u001b[39m.\u001b[39msql(\u001b[39m\"\u001b[39m\u001b[39mSELECT a+b, a-b FROM t\u001b[39m\u001b[39m\"\u001b[39m)\u001b[39m.\u001b[39mcollect()\n\u001b[1;32m     <a href='vscode-notebook-cell://wsl%2Bubuntuargus/home/robstar/github/flight-fusion/notebooks/client.ipynb#X25sdnNjb2RlLXJlbW90ZQ%3D%3D?line=15'>16</a>\u001b[0m result\n",
      "\u001b[0;31mAttributeError\u001b[0m: 'datafusion.SessionContext' object has no attribute 'register_dataset'"
     ]
    }
   ],
   "source": [
    "import pyarrow as pa\n",
    "import pyarrow.dataset as ds\n",
    "\n",
    "from datafusion import column, literal, SessionContext\n",
    "\n",
    "ctx = SessionContext()\n",
    "\n",
    "batch = pa.RecordBatch.from_arrays(\n",
    "    [pa.array([1, 2, 3]), pa.array([4, 5, 6])],\n",
    "    names=[\"a\", \"b\"],\n",
    ")\n",
    "dataset = ds.dataset([batch])\n",
    "ctx.register_dataset(\"t\", dataset)\n",
    "\n",
    "result = ctx.sql(\"SELECT a+b, a-b FROM t\").collect()\n",
    "result"
   ]
  }
 ],
 "metadata": {
  "interpreter": {
   "hash": "1ef538eb184aaebad22e1576cbc02a4883cbaf547ee83f087cc18cec7532039b"
  },
  "kernelspec": {
   "display_name": "Python 3.10.2 ('workspace-flight-fusion-jOezzoJ6-py3.10')",
   "language": "python",
   "name": "python3"
  },
  "language_info": {
   "codemirror_mode": {
    "name": "ipython",
    "version": 3
   },
   "file_extension": ".py",
   "mimetype": "text/x-python",
   "name": "python",
   "nbconvert_exporter": "python",
   "pygments_lexer": "ipython3",
   "version": "3.10.2"
  },
  "orig_nbformat": 4
 },
 "nbformat": 4,
 "nbformat_minor": 2
}
