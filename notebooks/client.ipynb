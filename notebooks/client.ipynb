{
 "cells": [
  {
   "cell_type": "markdown",
   "metadata": {},
   "source": [
    "### Connecting to the service\n",
    "\n",
    "To start working with the flight fusion service, let's start a local instance.\n",
    "\n",
    "```sh\n",
    "fusion server start\n",
    "```"
   ]
  },
  {
   "cell_type": "code",
   "execution_count": null,
   "metadata": {},
   "outputs": [],
   "source": [
    "from flight_fusion import FusionServiceClient, ClientOptions\n",
    "from flight_fusion.ipc.v1alpha1 import AreaSourceMetadata, SaveMode\n",
    "import numpy as np\n",
    "import pandas as pd\n",
    "import warnings\n",
    "import dagster\n",
    "\n",
    "warnings.filterwarnings(\"ignore\", category=dagster.ExperimentalWarning)\n",
    "\n",
    "# lets also define some test data to interact with the service\n",
    "np.random.seed(42)\n",
    "df_example = pd.DataFrame(np.random.randn(5, 3), columns=[\"col1\", \"col2\", \"col3\"])\n",
    "\n",
    "# set connection options\n",
    "options = ClientOptions(host=\"localhost\", port=50051)\n",
    "\n",
    "# and create an instance of the service client\n",
    "ffc = FusionServiceClient(options)"
   ]
  },
  {
   "cell_type": "markdown",
   "metadata": {},
   "source": [
    "### Writing and reading data"
   ]
  },
  {
   "cell_type": "markdown",
   "metadata": {},
   "source": [
    "#### Dataset Client"
   ]
  },
  {
   "cell_type": "code",
   "execution_count": null,
   "metadata": {},
   "outputs": [],
   "source": [
    "# when interacting with a single dataset, you need a dataset client\n",
    "fds = ffc.get_dataset_client(name=\"new_dataset\", areas=[\"demo\"])\n",
    "\n",
    "# write data into dataset\n",
    "fds.write_into(df_example, SaveMode.SAVE_MODE_OVERWRITE)"
   ]
  },
  {
   "cell_type": "code",
   "execution_count": null,
   "metadata": {},
   "outputs": [],
   "source": [
    "# to retrieve data, you can load the entire table ...\n",
    "df = fds.load().to_pandas()\n",
    "\n",
    "# ... or execute a query against it\n",
    "df_query = fds.query(\"SELECT avg(col1) FROM new_dataset\").to_pandas()\n",
    "\n",
    "df.shape, df_query.shape"
   ]
  },
  {
   "cell_type": "markdown",
   "metadata": {},
   "source": [
    "#### Versioned Dataset Client"
   ]
  },
  {
   "cell_type": "code",
   "execution_count": null,
   "metadata": {},
   "outputs": [],
   "source": [
    "# getting a client for versioned or regular datasets works the same way\n",
    "vds = ffc.get_versioned_dataset_client(name=\"new_versioned_dataset\", areas=[\"demo\"])\n",
    "\n",
    "vds.write_into(df_example, SaveMode.SAVE_MODE_OVERWRITE)"
   ]
  },
  {
   "cell_type": "code",
   "execution_count": null,
   "metadata": {},
   "outputs": [],
   "source": [
    "df = vds.load().to_pandas()\n",
    "df.head()"
   ]
  },
  {
   "cell_type": "markdown",
   "metadata": {},
   "source": [
    "#### Querying multiple datasets"
   ]
  },
  {
   "cell_type": "code",
   "execution_count": null,
   "metadata": {},
   "outputs": [],
   "source": [
    "fds_1 = ffc.get_dataset_client(name=\"table_1\", areas=[])\n",
    "fds_1.write_into(df_example)\n",
    "\n",
    "fds_2 = ffc.get_dataset_client(name=\"table_2\", areas=[])\n",
    "fds_2.write_into(df_example)\n",
    "\n",
    "ctx = ffc.get_context([(\"table_1\", []), (\"table_2\", [])])\n",
    "query = \"SELECT * FROM table_1 UNION ALL SELECT * FROM table_2\"\n",
    "df = ctx.query(query).to_pandas()\n",
    "\n",
    "df"
   ]
  },
  {
   "cell_type": "markdown",
   "metadata": {},
   "source": [
    "### Discovery and metadata"
   ]
  },
  {
   "cell_type": "code",
   "execution_count": null,
   "metadata": {},
   "outputs": [],
   "source": [
    "metadata = AreaSourceMetadata()\n",
    "fds.set_metadata(metadata=metadata)\n",
    "\n",
    "meta = fds.get_metadata()\n",
    "\n",
    "stats = fds.statistics()"
   ]
  }
 ],
 "metadata": {
  "interpreter": {
   "hash": "64821138d70fbed1f5af95a20e70605ae349b26fe4528557a57e6aa1996f78d9"
  },
  "kernelspec": {
   "display_name": "Python 3.8.10 64-bit ('workspace-flight-fusion-jOezzoJ6-py3.8': poetry)",
   "language": "python",
   "name": "python3"
  },
  "language_info": {
   "codemirror_mode": {
    "name": "ipython",
    "version": 3
   },
   "file_extension": ".py",
   "mimetype": "text/x-python",
   "name": "python",
   "nbconvert_exporter": "python",
   "pygments_lexer": "ipython3",
   "version": "3.10.2"
  },
  "orig_nbformat": 4
 },
 "nbformat": 4,
 "nbformat_minor": 2
}
