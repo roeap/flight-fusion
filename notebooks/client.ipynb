{
 "cells": [
  {
   "cell_type": "code",
   "execution_count": null,
   "metadata": {},
   "outputs": [],
   "source": [
    "from flight_fusion import FlightFusionClient, ClientOptions, TableClient\n",
    "import numpy as np\n",
    "import pandas as pd"
   ]
  },
  {
   "cell_type": "markdown",
   "metadata": {},
   "source": [
    "### Connection\n",
    "\n",
    "To connect to the service we need to know the connection parameters. These can also be configured via the environment.\n",
    "\n",
    "| parameter | env key | description |\n",
    "| --- | --- | --- |\n",
    "| `host` | `FF_HOST` | host to connect to |\n",
    "| `port` | `FF_PORT` | port to connect to |"
   ]
  },
  {
   "cell_type": "code",
   "execution_count": null,
   "metadata": {},
   "outputs": [],
   "source": [
    "# set connection options\n",
    "options = ClientOptions(host=\"localhost\", port=50051)\n",
    "\n",
    "# lets also define some test data to interact with the service\n",
    "np.random.seed(42)  \n",
    "df_example = pd.DataFrame(np.random.randn(5, 3), columns=[\"col1\", \"col2\", \"col3\"])"
   ]
  },
  {
   "cell_type": "markdown",
   "metadata": {},
   "source": [
    "### Service Client\n",
    "\n",
    "The most common way to start interacting with flight fusion is to create a service client. This client lets you explore the high level entities defined in the services. "
   ]
  },
  {
   "cell_type": "code",
   "execution_count": null,
   "metadata": {},
   "outputs": [],
   "source": [
    "ffc = FlightFusionClient(options)"
   ]
  },
  {
   "cell_type": "markdown",
   "metadata": {},
   "source": [
    "### Dataset Client\n",
    "\n",
    "The `DatasetClient` exposes operations to interact with data sets defined in flight fusion."
   ]
  },
  {
   "cell_type": "code",
   "execution_count": null,
   "metadata": {},
   "outputs": [],
   "source": [
    "# create a flight dataset client\n",
    "fds = TableClient.from_options(name=\"new_dataset\", areas=[], options=options)\n",
    "fds.write_into(df_example)"
   ]
  },
  {
   "cell_type": "code",
   "execution_count": null,
   "metadata": {},
   "outputs": [],
   "source": [
    "df = fds.load().to_pandas()\n",
    "df.head()"
   ]
  },
  {
   "cell_type": "code",
   "execution_count": null,
   "metadata": {},
   "outputs": [],
   "source": [
    "fds.drop()"
   ]
  },
  {
   "cell_type": "markdown",
   "metadata": {},
   "source": [
    "### Data Ingestion\n",
    "\n",
    "The fusion server supports registering data available locally as a managed dataset or registering data which resides in an external system.\n",
    "Local data will be written to configured object storage and can be versioned if desired. For versioned datasets `Delta` tables are used.\n",
    "\n",
    "- `register_memory_table`\n",
    "- `register_dataset`\n",
    "- `register_location`\n"
   ]
  },
  {
   "cell_type": "code",
   "execution_count": null,
   "metadata": {},
   "outputs": [],
   "source": [
    "np.random.seed(42)  \n",
    "df = pd.DataFrame(np.random.randn(500000, 20), columns=list('qwertzuiopasdfghjkly'))\n",
    "ffc.register_dataset(None, None, \"upload\", df)"
   ]
  },
  {
   "cell_type": "code",
   "execution_count": null,
   "metadata": {},
   "outputs": [],
   "source": [
    "np.random.seed(42)  \n",
    "df = pd.DataFrame(np.random.randn(500, 3), columns=[\"col1\", \"col2\", \"col3\"])\n",
    "ffc.write_into_delta(None, None, delta_path, SaveMode.SAVE_MODE_OVERWRITE, df)"
   ]
  },
  {
   "cell_type": "code",
   "execution_count": null,
   "metadata": {},
   "outputs": [],
   "source": [
    "query = \"SELECT * FROM catalog.schema.test_table\"\n",
    "table = ffc.execute_query(query).to_pandas()\n",
    "table.sample(5)"
   ]
  },
  {
   "cell_type": "code",
   "execution_count": null,
   "metadata": {},
   "outputs": [],
   "source": [
    "ffc.register_remote_dataset(None, None, \"upload_remote\", \"test/flight/largish2.parquet\")"
   ]
  },
  {
   "cell_type": "code",
   "execution_count": null,
   "metadata": {},
   "outputs": [],
   "source": [
    "query = 'SELECT * FROM catalog.schema.upload_remote WHERE A > 0 LIMIT 100'\n",
    "ffc.execute_query(query).to_pandas()"
   ]
  },
  {
   "cell_type": "code",
   "execution_count": null,
   "metadata": {},
   "outputs": [],
   "source": [
    "query = \"SELECT count(l) FROM catalog.schema.upload\"\n",
    "ffc.execute_query(query).to_pandas()"
   ]
  },
  {
   "cell_type": "code",
   "execution_count": null,
   "metadata": {},
   "outputs": [],
   "source": [
    "query = \"select * from information_schema.columns\"\n",
    "ffc.execute_query(query).to_pandas()"
   ]
  },
  {
   "cell_type": "code",
   "execution_count": null,
   "metadata": {},
   "outputs": [],
   "source": [
    "arr = table.column(\"x_axis\").to_pandas()\n",
    "arr"
   ]
  }
 ],
 "metadata": {
  "interpreter": {
   "hash": "64821138d70fbed1f5af95a20e70605ae349b26fe4528557a57e6aa1996f78d9"
  },
  "kernelspec": {
   "display_name": "Python 3.8.10 64-bit ('workspace-flight-fusion-jOezzoJ6-py3.8': poetry)",
   "language": "python",
   "name": "python3"
  },
  "language_info": {
   "codemirror_mode": {
    "name": "ipython",
    "version": 3
   },
   "file_extension": ".py",
   "mimetype": "text/x-python",
   "name": "python",
   "nbconvert_exporter": "python",
   "pygments_lexer": "ipython3",
   "version": "3.8.10"
  },
  "orig_nbformat": 4
 },
 "nbformat": 4,
 "nbformat_minor": 2
}
