{
 "cells": [
  {
   "cell_type": "code",
   "execution_count": null,
   "metadata": {},
   "outputs": [],
   "source": [
    "from flight_fusion import ModelServiceClient\n",
    "import pyarrow as pa\n",
    "\n",
    "mc = ModelServiceClient()\n",
    "mc.list_models().models"
   ]
  },
  {
   "cell_type": "code",
   "execution_count": null,
   "metadata": {},
   "outputs": [],
   "source": [
    "# if the model stare is \"UNAVAILABLE\", we have to load the model before further usage.\n",
    "mc.load_model(model_name=\"ElasticnetWineModel\")"
   ]
  },
  {
   "cell_type": "code",
   "execution_count": null,
   "metadata": {},
   "outputs": [],
   "source": [
    "# to interact with the model we create a model client\n",
    "model = mc.get_model_client(name=\"ElasticnetWineModel\", version=\"2\")\n",
    "print(\"Model input schema:\\n\")\n",
    "print(model.input_schema, \"\\n\\n\")\n",
    "print(\"Model output schema:\\n\")\n",
    "print(model.output_schema)"
   ]
  },
  {
   "cell_type": "code",
   "execution_count": null,
   "metadata": {},
   "outputs": [],
   "source": [
    "data = [\n",
    "    pa.array([7.4, 7.4]),\n",
    "    pa.array([0.7000, 0.7000]),\n",
    "    pa.array([0, 0]),\n",
    "    pa.array([1.9, 1.9]),\n",
    "    pa.array([0.076, 0.076]),\n",
    "    pa.array([11, 11]),\n",
    "    pa.array([34, 34]),\n",
    "    pa.array([0.9978, 0.9978]),\n",
    "    pa.array([3.51, 3.51]),\n",
    "    pa.array([0.56, 0.56]),\n",
    "    pa.array([9.4, 9.4]),\n",
    "]\n",
    "\n",
    "table = pa.Table.from_arrays(data, schema=model.input_schema)\n",
    "model.predict(table=table)"
   ]
  },
  {
   "cell_type": "code",
   "execution_count": null,
   "metadata": {},
   "outputs": [],
   "source": []
  },
  {
   "cell_type": "code",
   "execution_count": null,
   "metadata": {},
   "outputs": [],
   "source": []
  },
  {
   "cell_type": "code",
   "execution_count": null,
   "metadata": {},
   "outputs": [],
   "source": []
  },
  {
   "cell_type": "code",
   "execution_count": null,
   "metadata": {},
   "outputs": [],
   "source": [
    "from sklearn import datasets, svm, metrics\n",
    "from sklearn.model_selection import train_test_split\n",
    "\n",
    "# The digits dataset\n",
    "digits = datasets.load_digits()\n",
    "\n",
    "# To apply a classifier on this data, we need to flatten the image, to\n",
    "# turn the data in a (samples, feature) matrix:\n",
    "n_samples = len(digits.images)\n",
    "data = digits.images.reshape((n_samples, -1))\n",
    "\n",
    "# Create a classifier: a support vector classifier\n",
    "classifier = svm.SVC(gamma=0.001)\n",
    "\n",
    "# Split data into train and test subsets\n",
    "X_train, X_test, y_train, y_test = train_test_split(\n",
    "    data, digits.target, test_size=0.5, shuffle=False)\n",
    "\n",
    "# We learn the digits on the first half of the digits\n",
    "classifier.fit(X_train, y_train)"
   ]
  },
  {
   "cell_type": "code",
   "execution_count": null,
   "metadata": {},
   "outputs": [],
   "source": [
    "import joblib\n",
    "\n",
    "model_file_name = \"mnist-svm.joblib\"\n",
    "joblib.dump(classifier, model_file_name)"
   ]
  },
  {
   "cell_type": "code",
   "execution_count": null,
   "metadata": {},
   "outputs": [],
   "source": [
    "import os\n",
    "\n",
    "os.environ[\"MLFLOW_TRACKING_URI\"] = \"http://127.0.0.1:5000\""
   ]
  },
  {
   "cell_type": "code",
   "execution_count": null,
   "metadata": {},
   "outputs": [],
   "source": [
    "import warnings\n",
    "import sys\n",
    "\n",
    "import pandas as pd\n",
    "import numpy as np\n",
    "from sklearn.metrics import mean_squared_error, mean_absolute_error, r2_score\n",
    "from sklearn.model_selection import train_test_split\n",
    "from sklearn.linear_model import ElasticNet\n",
    "from urllib.parse import urlparse\n",
    "import mlflow\n",
    "import mlflow.sklearn\n",
    "from mlflow.models.signature import infer_signature\n",
    "\n",
    "import logging\n",
    "\n",
    "logging.basicConfig(level=logging.WARN)\n",
    "logger = logging.getLogger(__name__)\n",
    "\n",
    "\n",
    "def eval_metrics(actual, pred):\n",
    "    rmse = np.sqrt(mean_squared_error(actual, pred))\n",
    "    mae = mean_absolute_error(actual, pred)\n",
    "    r2 = r2_score(actual, pred)\n",
    "    return rmse, mae, r2\n",
    "\n",
    "warnings.filterwarnings(\"ignore\")\n",
    "np.random.seed(40)\n",
    "\n",
    "mlflow.sklearn.autolog()\n",
    "\n",
    "# Read the wine-quality csv file from the URL\n",
    "csv_url = (\n",
    "    \"http://archive.ics.uci.edu/ml\"\n",
    "    \"/machine-learning-databases/wine-quality/winequality-red.csv\"\n",
    ")\n",
    "try:\n",
    "    data = pd.read_csv(csv_url, sep=\";\")\n",
    "except Exception as e:\n",
    "    logger.exception(\n",
    "        \"Unable to download training & test CSV, \"\n",
    "        \"check your internet connection. Error: %s\",\n",
    "        e,\n",
    "    )\n",
    "\n",
    "# Split the data into training and test sets. (0.75, 0.25) split.\n",
    "train, test = train_test_split(data)\n",
    "\n",
    "# The predicted column is \"quality\" which is a scalar from [3, 9]\n",
    "train_x = train.drop([\"quality\"], axis=1)\n",
    "test_x = test.drop([\"quality\"], axis=1)\n",
    "train_y = train[[\"quality\"]]\n",
    "test_y = test[[\"quality\"]]\n",
    "\n",
    "alpha = 0.5\n",
    "l1_ratio = 0.5\n",
    "\n",
    "experiment = mlflow.set_experiment(\"wine_model_new\")\n",
    "print(experiment)\n",
    "\n",
    "with mlflow.start_run():\n",
    "    lr = ElasticNet(alpha=alpha, l1_ratio=l1_ratio, random_state=42)\n",
    "    lr.fit(train_x, train_y)\n",
    "\n",
    "    predicted_qualities = lr.predict(test_x)\n",
    "\n",
    "    (rmse, mae, r2) = eval_metrics(test_y, predicted_qualities)\n",
    "\n",
    "    print(\"Elasticnet model (alpha=%f, l1_ratio=%f):\" % (alpha, l1_ratio))\n",
    "    print(\"  RMSE: %s\" % rmse)\n",
    "    print(\"  MAE: %s\" % mae)\n",
    "    print(\"  R2: %s\" % r2)\n",
    "\n",
    "    # mlflow.log_param(\"alpha\", alpha)\n",
    "    # mlflow.log_param(\"l1_ratio\", l1_ratio)\n",
    "    # mlflow.log_metric(\"rmse\", rmse)\n",
    "    # mlflow.log_metric(\"r2\", r2)\n",
    "    # mlflow.log_metric(\"mae\", mae)\n",
    "\n",
    "    tracking_url_type_store = urlparse(mlflow.get_tracking_uri()).scheme\n",
    "    model_signature = infer_signature(train_x, train_y)\n",
    "\n",
    "    # Model registry does not work with file store\n",
    "    if tracking_url_type_store != \"file\":\n",
    "\n",
    "        # Register the model\n",
    "        # There are other ways to use the Model Registry,\n",
    "        # which depends on the use case,\n",
    "        # please refer to the doc for more information:\n",
    "        # https://mlflow.org/docs/latest/model-registry.html#api-workflow\n",
    "        mlflow.sklearn.log_model(\n",
    "            lr,\n",
    "            \"model\",\n",
    "            registered_model_name=\"ElasticnetWineModel\",\n",
    "            signature=model_signature,\n",
    "        )\n",
    "    else:\n",
    "        mlflow.sklearn.log_model(lr, \"model\", signature=model_signature)"
   ]
  }
 ],
 "metadata": {
  "interpreter": {
   "hash": "1ef538eb184aaebad22e1576cbc02a4883cbaf547ee83f087cc18cec7532039b"
  },
  "kernelspec": {
   "display_name": "Python 3.10.2 ('workspace-flight-fusion-jOezzoJ6-py3.10')",
   "language": "python",
   "name": "python3"
  },
  "language_info": {
   "codemirror_mode": {
    "name": "ipython",
    "version": 3
   },
   "file_extension": ".py",
   "mimetype": "text/x-python",
   "name": "python",
   "nbconvert_exporter": "python",
   "pygments_lexer": "ipython3",
   "version": "3.10.2"
  },
  "orig_nbformat": 4
 },
 "nbformat": 4,
 "nbformat_minor": 2
}
