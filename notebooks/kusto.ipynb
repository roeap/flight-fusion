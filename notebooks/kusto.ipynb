{
 "cells": [
  {
   "cell_type": "code",
   "execution_count": null,
   "metadata": {},
   "outputs": [],
   "source": [
    "from arrow_adx import KustoClient\n",
    "import pyarrow as pa\n",
    "import os\n",
    "\n",
    "client = KustoClient(\"https://chronos.northeurope.kusto.windows.net\")"
   ]
  },
  {
   "cell_type": "code",
   "execution_count": null,
   "metadata": {},
   "outputs": [],
   "source": [
    "client = KustoClient.with_aad_application_key_authentication(\n",
    "    \"https://chronos.northeurope.kusto.windows.net\",\n",
    "    os.environ[\"AZURE_CLIENT_ID\"],\n",
    "    os.environ[\"AZURE_CLIENT_SECRET\"],\n",
    "    os.environ[\"AZURE_TENANT_ID\"],\n",
    ")\n"
   ]
  },
  {
   "cell_type": "code",
   "execution_count": null,
   "metadata": {},
   "outputs": [],
   "source": [
    "batches = client.execute(\"argus-stage\", \"signals | take 100\")\n",
    "table = pa.Table.from_batches(batches)\n",
    "table.shape"
   ]
  },
  {
   "cell_type": "code",
   "execution_count": null,
   "metadata": {},
   "outputs": [],
   "source": [
    "import os\n",
    "from azure.identity import ClientSecretCredential\n",
    "\n",
    "cred = ClientSecretCredential(\n",
    "    tenant_id=os.environ[\"MLFUSION_TENANT_ID\"],\n",
    "    client_id=os.environ[\"MLFUSION_AZURE_CLIENT_ID\"],\n",
    "    client_secret=os.environ[\"MLFUSION_AZURE_CLIENT_SECRET\"],\n",
    ")\n"
   ]
  },
  {
   "cell_type": "code",
   "execution_count": null,
   "metadata": {},
   "outputs": [],
   "source": [
    "token = cred.get_token(\"https://storage.azure.com/.default\")"
   ]
  },
  {
   "cell_type": "code",
   "execution_count": null,
   "metadata": {},
   "outputs": [],
   "source": [
    "token"
   ]
  }
 ],
 "metadata": {
  "interpreter": {
   "hash": "1ef538eb184aaebad22e1576cbc02a4883cbaf547ee83f087cc18cec7532039b"
  },
  "kernelspec": {
   "display_name": "Python 3.10.2 ('workspace-flight-fusion-jOezzoJ6-py3.10')",
   "language": "python",
   "name": "python3"
  },
  "language_info": {
   "codemirror_mode": {
    "name": "ipython",
    "version": 3
   },
   "file_extension": ".py",
   "mimetype": "text/x-python",
   "name": "python",
   "nbconvert_exporter": "python",
   "pygments_lexer": "ipython3",
   "version": "3.10.2"
  },
  "orig_nbformat": 4
 },
 "nbformat": 4,
 "nbformat_minor": 2
}
