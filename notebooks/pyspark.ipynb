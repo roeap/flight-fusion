{
 "cells": [
  {
   "cell_type": "code",
   "execution_count": 1,
   "metadata": {},
   "outputs": [
    {
     "name": "stderr",
     "output_type": "stream",
     "text": [
      "22/06/02 00:00:33 WARN Utils: Your hostname, DESKTOP-ME6BQMM resolves to a loopback address: 127.0.1.1; using 192.168.206.34 instead (on interface eth0)\n",
      "22/06/02 00:00:33 WARN Utils: Set SPARK_LOCAL_IP if you need to bind to another address\n",
      "WARNING: An illegal reflective access operation has occurred\n",
      "WARNING: Illegal reflective access by org.apache.spark.unsafe.Platform (file:/home/robstar/.cache/pypoetry/virtualenvs/workspace-flight-fusion-jOezzoJ6-py3.10/lib/python3.10/site-packages/pyspark/jars/spark-unsafe_2.12-3.2.1.jar) to constructor java.nio.DirectByteBuffer(long,int)\n",
      "WARNING: Please consider reporting this to the maintainers of org.apache.spark.unsafe.Platform\n",
      "WARNING: Use --illegal-access=warn to enable warnings of further illegal reflective access operations\n",
      "WARNING: All illegal access operations will be denied in a future release\n"
     ]
    },
    {
     "name": "stdout",
     "output_type": "stream",
     "text": [
      ":: loading settings :: url = jar:file:/home/robstar/.cache/pypoetry/virtualenvs/workspace-flight-fusion-jOezzoJ6-py3.10/lib/python3.10/site-packages/pyspark/jars/ivy-2.5.0.jar!/org/apache/ivy/core/settings/ivysettings.xml\n"
     ]
    },
    {
     "name": "stderr",
     "output_type": "stream",
     "text": [
      "Ivy Default Cache set to: /home/robstar/.ivy2/cache\n",
      "The jars for the packages stored in: /home/robstar/.ivy2/jars\n",
      "io.delta#delta-core_2.12 added as a dependency\n",
      ":: resolving dependencies :: org.apache.spark#spark-submit-parent-f49eb3de-51f5-45b1-9811-014a2ed9663c;1.0\n",
      "\tconfs: [default]\n",
      "\tfound io.delta#delta-core_2.12;1.2.1 in central\n",
      "\tfound io.delta#delta-storage;1.2.1 in central\n",
      "\tfound org.antlr#antlr4-runtime;4.8 in central\n",
      "\tfound org.codehaus.jackson#jackson-core-asl;1.9.13 in central\n",
      "downloading https://repo1.maven.org/maven2/io/delta/delta-core_2.12/1.2.1/delta-core_2.12-1.2.1.jar ...\n",
      "\t[SUCCESSFUL ] io.delta#delta-core_2.12;1.2.1!delta-core_2.12.jar (232ms)\n",
      "downloading https://repo1.maven.org/maven2/io/delta/delta-storage/1.2.1/delta-storage-1.2.1.jar ...\n",
      "\t[SUCCESSFUL ] io.delta#delta-storage;1.2.1!delta-storage.jar (20ms)\n",
      ":: resolution report :: resolve 1386ms :: artifacts dl 258ms\n",
      "\t:: modules in use:\n",
      "\tio.delta#delta-core_2.12;1.2.1 from central in [default]\n",
      "\tio.delta#delta-storage;1.2.1 from central in [default]\n",
      "\torg.antlr#antlr4-runtime;4.8 from central in [default]\n",
      "\torg.codehaus.jackson#jackson-core-asl;1.9.13 from central in [default]\n",
      "\t---------------------------------------------------------------------\n",
      "\t|                  |            modules            ||   artifacts   |\n",
      "\t|       conf       | number| search|dwnlded|evicted|| number|dwnlded|\n",
      "\t---------------------------------------------------------------------\n",
      "\t|      default     |   4   |   2   |   2   |   0   ||   4   |   2   |\n",
      "\t---------------------------------------------------------------------\n",
      ":: retrieving :: org.apache.spark#spark-submit-parent-f49eb3de-51f5-45b1-9811-014a2ed9663c\n",
      "\tconfs: [default]\n",
      "\t2 artifacts copied, 2 already retrieved (2791kB/8ms)\n",
      "22/06/02 00:00:36 WARN NativeCodeLoader: Unable to load native-hadoop library for your platform... using builtin-java classes where applicable\n",
      "Using Spark's default log4j profile: org/apache/spark/log4j-defaults.properties\n",
      "Setting default log level to \"WARN\".\n",
      "To adjust logging level use sc.setLogLevel(newLevel). For SparkR, use setLogLevel(newLevel).\n"
     ]
    }
   ],
   "source": [
    "from pyspark.sql import SparkSession\n",
    "from delta import *\n",
    "import pandas as pd\n",
    "import numpy as np\n",
    "\n",
    "builder = SparkSession.builder.appName(\"flight-fusion-test\") \\\n",
    "    .config(\"spark.sql.extensions\", \"io.delta.sql.DeltaSparkSessionExtension\") \\\n",
    "    .config(\"spark.sql.catalog.spark_catalog\", \"org.apache.spark.sql.delta.catalog.DeltaCatalog\")\n",
    "\n",
    "spark = configure_spark_with_delta_pip(builder).getOrCreate()"
   ]
  },
  {
   "cell_type": "code",
   "execution_count": 12,
   "metadata": {},
   "outputs": [],
   "source": [
    "import os\n",
    "from pathlib import Path\n",
    "from subprocess import STDOUT, check_output\n",
    "\n",
    "import numpy as np\n",
    "import pandas as pd\n",
    "import pyarrow as pa\n",
    "import pyarrow.parquet as pq\n",
    "from pyarrow.fs import LocalFileSystem\n",
    "\n",
    "DATA_ROOT = \"_ff_data\"\n",
    "\n",
    "def file_relative_path(dunderfile, relative_path):\n",
    "    return os.path.join(os.path.dirname(dunderfile), relative_path)\n",
    "\n",
    "\n",
    "def workspace_root() -> Path:\n",
    "    output = check_output([\"cargo\", \"metadata\"], stderr=STDOUT).decode()  # nosec\n",
    "    key = 'workspace_root\":\"'\n",
    "    idx = output.find(key)\n",
    "    part = output[idx + len(key) :]\n",
    "    idx = part.find('\"')\n",
    "\n",
    "    return Path(part[:idx])\n",
    "\n",
    "data_path = workspace_root() / \"test\" / \"db\""
   ]
  },
  {
   "cell_type": "code",
   "execution_count": 41,
   "metadata": {},
   "outputs": [
    {
     "data": {
      "text/plain": [
       "(timestamp: timestamp[ns]\n",
       " date: date32[day]\n",
       " string: string\n",
       " double: double\n",
       " real: double\n",
       " float: double,\n",
       " (25, 6))"
      ]
     },
     "execution_count": 41,
     "metadata": {},
     "output_type": "execute_result"
    }
   ],
   "source": [
    "ts = pd.date_range(\n",
    "    start=pd.to_datetime(\"2020-01-01 00:00:00\"),\n",
    "    end=pd.to_datetime(\"2020-01-04 00:00:00\"),\n",
    "    freq=\"3h\",\n",
    ")\n",
    "\n",
    "table = pa.Table.from_pydict(\n",
    "    {\n",
    "        \"timestamp\": ts,\n",
    "        \"date\":  pd.to_datetime(pd.Series(ts)).dt.date,\n",
    "        \"string\": np.random.choice([\"a\", \"b\", \"c\"], len(ts)),\n",
    "        \"double\": np.random.randn(len(ts)),\n",
    "        \"real\": np.random.randn(len(ts)),\n",
    "        \"float\": np.random.randn(len(ts)),\n",
    "    }\n",
    ")\n",
    "table.schema, table.shape\n"
   ]
  },
  {
   "cell_type": "code",
   "execution_count": 42,
   "metadata": {},
   "outputs": [],
   "source": [
    "sdf = spark.createDataFrame(table.to_pandas()).repartition(1)\n",
    "\n",
    "sdf.write.format(\"delta\").save(str(data_path / \"delta\" / DATA_ROOT / \"simple\"), mode=\"overwrite\")\n",
    "sdf.write.format(\"delta\").partitionBy(\"date\").save(\n",
    "    str(data_path / \"delta\" / \"partitioned\" / DATA_ROOT / \"date\"), mode=\"overwrite\"\n",
    ")\n",
    "sdf.write.format(\"delta\").partitionBy(\"string\").save(\n",
    "    str(data_path / \"delta\" / \"partitioned\" / DATA_ROOT / \"string\"), mode=\"overwrite\"\n",
    ")\n"
   ]
  },
  {
   "cell_type": "code",
   "execution_count": 23,
   "metadata": {},
   "outputs": [],
   "source": [
    "sdf.write.format(\"delta\").partitionBy(\"part\").save(str(data_path / DATA_ROOT / \"rand\"), mode=\"overwrite\")"
   ]
  },
  {
   "cell_type": "code",
   "execution_count": 13,
   "metadata": {},
   "outputs": [
    {
     "ename": "AnalysisException",
     "evalue": "Database 'delta' not found",
     "output_type": "error",
     "traceback": [
      "\u001b[0;31m---------------------------------------------------------------------------\u001b[0m",
      "\u001b[0;31mAnalysisException\u001b[0m                         Traceback (most recent call last)",
      "\u001b[1;32m/home/robstar/github/flight-fusion/notebooks/pyspark.ipynb Cell 6'\u001b[0m in \u001b[0;36m<cell line: 1>\u001b[0;34m()\u001b[0m\n\u001b[1;32m      <a href='vscode-notebook-cell://wsl%2Bubuntuargus/home/robstar/github/flight-fusion/notebooks/pyspark.ipynb#ch0000006vscode-remote?line=0'>1</a>\u001b[0m DeltaTable\u001b[39m.\u001b[39;49mcreateIfNotExists(spark) \\\n\u001b[1;32m      <a href='vscode-notebook-cell://wsl%2Bubuntuargus/home/robstar/github/flight-fusion/notebooks/pyspark.ipynb#ch0000006vscode-remote?line=1'>2</a>\u001b[0m   \u001b[39m.\u001b[39;49maddColumn(\u001b[39m\"\u001b[39;49m\u001b[39mid\u001b[39;49m\u001b[39m\"\u001b[39;49m, \u001b[39m\"\u001b[39;49m\u001b[39mINT\u001b[39;49m\u001b[39m\"\u001b[39;49m) \\\n\u001b[1;32m      <a href='vscode-notebook-cell://wsl%2Bubuntuargus/home/robstar/github/flight-fusion/notebooks/pyspark.ipynb#ch0000006vscode-remote?line=2'>3</a>\u001b[0m   \u001b[39m.\u001b[39;49maddColumn(\u001b[39m\"\u001b[39;49m\u001b[39mfirstName\u001b[39;49m\u001b[39m\"\u001b[39;49m, \u001b[39m\"\u001b[39;49m\u001b[39mSTRING\u001b[39;49m\u001b[39m\"\u001b[39;49m) \\\n\u001b[1;32m      <a href='vscode-notebook-cell://wsl%2Bubuntuargus/home/robstar/github/flight-fusion/notebooks/pyspark.ipynb#ch0000006vscode-remote?line=3'>4</a>\u001b[0m   \u001b[39m.\u001b[39;49maddColumn(\u001b[39m\"\u001b[39;49m\u001b[39mmiddleName\u001b[39;49m\u001b[39m\"\u001b[39;49m, \u001b[39m\"\u001b[39;49m\u001b[39mSTRING\u001b[39;49m\u001b[39m\"\u001b[39;49m) \\\n\u001b[1;32m      <a href='vscode-notebook-cell://wsl%2Bubuntuargus/home/robstar/github/flight-fusion/notebooks/pyspark.ipynb#ch0000006vscode-remote?line=4'>5</a>\u001b[0m   \u001b[39m.\u001b[39;49maddColumn(\u001b[39m\"\u001b[39;49m\u001b[39mlastName\u001b[39;49m\u001b[39m\"\u001b[39;49m, \u001b[39m\"\u001b[39;49m\u001b[39mSTRING\u001b[39;49m\u001b[39m\"\u001b[39;49m, comment \u001b[39m=\u001b[39;49m \u001b[39m\"\u001b[39;49m\u001b[39msurname\u001b[39;49m\u001b[39m\"\u001b[39;49m) \\\n\u001b[1;32m      <a href='vscode-notebook-cell://wsl%2Bubuntuargus/home/robstar/github/flight-fusion/notebooks/pyspark.ipynb#ch0000006vscode-remote?line=5'>6</a>\u001b[0m   \u001b[39m.\u001b[39;49maddColumn(\u001b[39m\"\u001b[39;49m\u001b[39mgender\u001b[39;49m\u001b[39m\"\u001b[39;49m, \u001b[39m\"\u001b[39;49m\u001b[39mSTRING\u001b[39;49m\u001b[39m\"\u001b[39;49m) \\\n\u001b[1;32m      <a href='vscode-notebook-cell://wsl%2Bubuntuargus/home/robstar/github/flight-fusion/notebooks/pyspark.ipynb#ch0000006vscode-remote?line=6'>7</a>\u001b[0m   \u001b[39m.\u001b[39;49maddColumn(\u001b[39m\"\u001b[39;49m\u001b[39mbirthDate\u001b[39;49m\u001b[39m\"\u001b[39;49m, \u001b[39m\"\u001b[39;49m\u001b[39mTIMESTAMP\u001b[39;49m\u001b[39m\"\u001b[39;49m) \\\n\u001b[1;32m      <a href='vscode-notebook-cell://wsl%2Bubuntuargus/home/robstar/github/flight-fusion/notebooks/pyspark.ipynb#ch0000006vscode-remote?line=7'>8</a>\u001b[0m   \u001b[39m.\u001b[39;49maddColumn(\u001b[39m\"\u001b[39;49m\u001b[39mssn\u001b[39;49m\u001b[39m\"\u001b[39;49m, \u001b[39m\"\u001b[39;49m\u001b[39mSTRING\u001b[39;49m\u001b[39m\"\u001b[39;49m) \\\n\u001b[1;32m      <a href='vscode-notebook-cell://wsl%2Bubuntuargus/home/robstar/github/flight-fusion/notebooks/pyspark.ipynb#ch0000006vscode-remote?line=8'>9</a>\u001b[0m   \u001b[39m.\u001b[39;49maddColumn(\u001b[39m\"\u001b[39;49m\u001b[39msalary\u001b[39;49m\u001b[39m\"\u001b[39;49m, \u001b[39m\"\u001b[39;49m\u001b[39mINT\u001b[39;49m\u001b[39m\"\u001b[39;49m) \\\n\u001b[1;32m     <a href='vscode-notebook-cell://wsl%2Bubuntuargus/home/robstar/github/flight-fusion/notebooks/pyspark.ipynb#ch0000006vscode-remote?line=9'>10</a>\u001b[0m   \u001b[39m.\u001b[39;49mlocation(\u001b[39m\"\u001b[39;49m\u001b[39mtmp/people\u001b[39;49m\u001b[39m\"\u001b[39;49m) \\\n\u001b[0;32m---> <a href='vscode-notebook-cell://wsl%2Bubuntuargus/home/robstar/github/flight-fusion/notebooks/pyspark.ipynb#ch0000006vscode-remote?line=10'>11</a>\u001b[0m   \u001b[39m.\u001b[39;49mexecute()\n",
      "File \u001b[0;32m~/.cache/pypoetry/virtualenvs/workspace-flight-fusion-jOezzoJ6-py3.10/lib/python3.10/site-packages/delta/tables.py:1092\u001b[0m, in \u001b[0;36mDeltaTableBuilder.execute\u001b[0;34m(self)\u001b[0m\n\u001b[1;32m   <a href='file:///home/robstar/.cache/pypoetry/virtualenvs/workspace-flight-fusion-jOezzoJ6-py3.10/lib/python3.10/site-packages/delta/tables.py?line=1082'>1083</a>\u001b[0m \u001b[39m@since\u001b[39m(\u001b[39m1.0\u001b[39m)  \u001b[39m# type: ignore[arg-type]\u001b[39;00m\n\u001b[1;32m   <a href='file:///home/robstar/.cache/pypoetry/virtualenvs/workspace-flight-fusion-jOezzoJ6-py3.10/lib/python3.10/site-packages/delta/tables.py?line=1083'>1084</a>\u001b[0m \u001b[39mdef\u001b[39;00m \u001b[39mexecute\u001b[39m(\u001b[39mself\u001b[39m) \u001b[39m-\u001b[39m\u001b[39m>\u001b[39m DeltaTable:\n\u001b[1;32m   <a href='file:///home/robstar/.cache/pypoetry/virtualenvs/workspace-flight-fusion-jOezzoJ6-py3.10/lib/python3.10/site-packages/delta/tables.py?line=1084'>1085</a>\u001b[0m     \u001b[39m\"\"\"\u001b[39;00m\n\u001b[1;32m   <a href='file:///home/robstar/.cache/pypoetry/virtualenvs/workspace-flight-fusion-jOezzoJ6-py3.10/lib/python3.10/site-packages/delta/tables.py?line=1085'>1086</a>\u001b[0m \u001b[39m    Execute Table Creation.\u001b[39;00m\n\u001b[1;32m   <a href='file:///home/robstar/.cache/pypoetry/virtualenvs/workspace-flight-fusion-jOezzoJ6-py3.10/lib/python3.10/site-packages/delta/tables.py?line=1086'>1087</a>\u001b[0m \n\u001b[0;32m   (...)\u001b[0m\n\u001b[1;32m   <a href='file:///home/robstar/.cache/pypoetry/virtualenvs/workspace-flight-fusion-jOezzoJ6-py3.10/lib/python3.10/site-packages/delta/tables.py?line=1089'>1090</a>\u001b[0m \u001b[39m    .. note:: Evolving\u001b[39;00m\n\u001b[1;32m   <a href='file:///home/robstar/.cache/pypoetry/virtualenvs/workspace-flight-fusion-jOezzoJ6-py3.10/lib/python3.10/site-packages/delta/tables.py?line=1090'>1091</a>\u001b[0m \u001b[39m    \"\"\"\u001b[39;00m\n\u001b[0;32m-> <a href='file:///home/robstar/.cache/pypoetry/virtualenvs/workspace-flight-fusion-jOezzoJ6-py3.10/lib/python3.10/site-packages/delta/tables.py?line=1091'>1092</a>\u001b[0m     jdt \u001b[39m=\u001b[39m \u001b[39mself\u001b[39;49m\u001b[39m.\u001b[39;49m_jbuilder\u001b[39m.\u001b[39;49mexecute()\n\u001b[1;32m   <a href='file:///home/robstar/.cache/pypoetry/virtualenvs/workspace-flight-fusion-jOezzoJ6-py3.10/lib/python3.10/site-packages/delta/tables.py?line=1092'>1093</a>\u001b[0m     \u001b[39mreturn\u001b[39;00m DeltaTable(\u001b[39mself\u001b[39m\u001b[39m.\u001b[39m_spark, jdt)\n",
      "File \u001b[0;32m~/.cache/pypoetry/virtualenvs/workspace-flight-fusion-jOezzoJ6-py3.10/lib/python3.10/site-packages/py4j/java_gateway.py:1321\u001b[0m, in \u001b[0;36mJavaMember.__call__\u001b[0;34m(self, *args)\u001b[0m\n\u001b[1;32m   <a href='file:///home/robstar/.cache/pypoetry/virtualenvs/workspace-flight-fusion-jOezzoJ6-py3.10/lib/python3.10/site-packages/py4j/java_gateway.py?line=1314'>1315</a>\u001b[0m command \u001b[39m=\u001b[39m proto\u001b[39m.\u001b[39mCALL_COMMAND_NAME \u001b[39m+\u001b[39m\\\n\u001b[1;32m   <a href='file:///home/robstar/.cache/pypoetry/virtualenvs/workspace-flight-fusion-jOezzoJ6-py3.10/lib/python3.10/site-packages/py4j/java_gateway.py?line=1315'>1316</a>\u001b[0m     \u001b[39mself\u001b[39m\u001b[39m.\u001b[39mcommand_header \u001b[39m+\u001b[39m\\\n\u001b[1;32m   <a href='file:///home/robstar/.cache/pypoetry/virtualenvs/workspace-flight-fusion-jOezzoJ6-py3.10/lib/python3.10/site-packages/py4j/java_gateway.py?line=1316'>1317</a>\u001b[0m     args_command \u001b[39m+\u001b[39m\\\n\u001b[1;32m   <a href='file:///home/robstar/.cache/pypoetry/virtualenvs/workspace-flight-fusion-jOezzoJ6-py3.10/lib/python3.10/site-packages/py4j/java_gateway.py?line=1317'>1318</a>\u001b[0m     proto\u001b[39m.\u001b[39mEND_COMMAND_PART\n\u001b[1;32m   <a href='file:///home/robstar/.cache/pypoetry/virtualenvs/workspace-flight-fusion-jOezzoJ6-py3.10/lib/python3.10/site-packages/py4j/java_gateway.py?line=1319'>1320</a>\u001b[0m answer \u001b[39m=\u001b[39m \u001b[39mself\u001b[39m\u001b[39m.\u001b[39mgateway_client\u001b[39m.\u001b[39msend_command(command)\n\u001b[0;32m-> <a href='file:///home/robstar/.cache/pypoetry/virtualenvs/workspace-flight-fusion-jOezzoJ6-py3.10/lib/python3.10/site-packages/py4j/java_gateway.py?line=1320'>1321</a>\u001b[0m return_value \u001b[39m=\u001b[39m get_return_value(\n\u001b[1;32m   <a href='file:///home/robstar/.cache/pypoetry/virtualenvs/workspace-flight-fusion-jOezzoJ6-py3.10/lib/python3.10/site-packages/py4j/java_gateway.py?line=1321'>1322</a>\u001b[0m     answer, \u001b[39mself\u001b[39;49m\u001b[39m.\u001b[39;49mgateway_client, \u001b[39mself\u001b[39;49m\u001b[39m.\u001b[39;49mtarget_id, \u001b[39mself\u001b[39;49m\u001b[39m.\u001b[39;49mname)\n\u001b[1;32m   <a href='file:///home/robstar/.cache/pypoetry/virtualenvs/workspace-flight-fusion-jOezzoJ6-py3.10/lib/python3.10/site-packages/py4j/java_gateway.py?line=1323'>1324</a>\u001b[0m \u001b[39mfor\u001b[39;00m temp_arg \u001b[39min\u001b[39;00m temp_args:\n\u001b[1;32m   <a href='file:///home/robstar/.cache/pypoetry/virtualenvs/workspace-flight-fusion-jOezzoJ6-py3.10/lib/python3.10/site-packages/py4j/java_gateway.py?line=1324'>1325</a>\u001b[0m     temp_arg\u001b[39m.\u001b[39m_detach()\n",
      "File \u001b[0;32m~/.cache/pypoetry/virtualenvs/workspace-flight-fusion-jOezzoJ6-py3.10/lib/python3.10/site-packages/pyspark/sql/utils.py:117\u001b[0m, in \u001b[0;36mcapture_sql_exception.<locals>.deco\u001b[0;34m(*a, **kw)\u001b[0m\n\u001b[1;32m    <a href='file:///home/robstar/.cache/pypoetry/virtualenvs/workspace-flight-fusion-jOezzoJ6-py3.10/lib/python3.10/site-packages/pyspark/sql/utils.py?line=112'>113</a>\u001b[0m converted \u001b[39m=\u001b[39m convert_exception(e\u001b[39m.\u001b[39mjava_exception)\n\u001b[1;32m    <a href='file:///home/robstar/.cache/pypoetry/virtualenvs/workspace-flight-fusion-jOezzoJ6-py3.10/lib/python3.10/site-packages/pyspark/sql/utils.py?line=113'>114</a>\u001b[0m \u001b[39mif\u001b[39;00m \u001b[39mnot\u001b[39;00m \u001b[39misinstance\u001b[39m(converted, UnknownException):\n\u001b[1;32m    <a href='file:///home/robstar/.cache/pypoetry/virtualenvs/workspace-flight-fusion-jOezzoJ6-py3.10/lib/python3.10/site-packages/pyspark/sql/utils.py?line=114'>115</a>\u001b[0m     \u001b[39m# Hide where the exception came from that shows a non-Pythonic\u001b[39;00m\n\u001b[1;32m    <a href='file:///home/robstar/.cache/pypoetry/virtualenvs/workspace-flight-fusion-jOezzoJ6-py3.10/lib/python3.10/site-packages/pyspark/sql/utils.py?line=115'>116</a>\u001b[0m     \u001b[39m# JVM exception message.\u001b[39;00m\n\u001b[0;32m--> <a href='file:///home/robstar/.cache/pypoetry/virtualenvs/workspace-flight-fusion-jOezzoJ6-py3.10/lib/python3.10/site-packages/pyspark/sql/utils.py?line=116'>117</a>\u001b[0m     \u001b[39mraise\u001b[39;00m converted \u001b[39mfrom\u001b[39;00m \u001b[39mNone\u001b[39m\n\u001b[1;32m    <a href='file:///home/robstar/.cache/pypoetry/virtualenvs/workspace-flight-fusion-jOezzoJ6-py3.10/lib/python3.10/site-packages/pyspark/sql/utils.py?line=117'>118</a>\u001b[0m \u001b[39melse\u001b[39;00m:\n\u001b[1;32m    <a href='file:///home/robstar/.cache/pypoetry/virtualenvs/workspace-flight-fusion-jOezzoJ6-py3.10/lib/python3.10/site-packages/pyspark/sql/utils.py?line=118'>119</a>\u001b[0m     \u001b[39mraise\u001b[39;00m\n",
      "\u001b[0;31mAnalysisException\u001b[0m: Database 'delta' not found"
     ]
    }
   ],
   "source": [
    "DeltaTable.createIfNotExists(spark) \\\n",
    "  .tableName(\"people10m\") \\\n",
    "  .addColumn(\"id\", \"INT\") \\\n",
    "  .addColumn(\"firstName\", \"STRING\") \\\n",
    "  .addColumn(\"middleName\", \"STRING\") \\\n",
    "  .addColumn(\"lastName\", \"STRING\", comment = \"surname\") \\\n",
    "  .addColumn(\"gender\", \"STRING\") \\\n",
    "  .addColumn(\"birthDate\", \"TIMESTAMP\") \\\n",
    "  .addColumn(\"ssn\", \"STRING\") \\\n",
    "  .addColumn(\"salary\", \"INT\") \\\n",
    "  .location(\"tmp/people\") \\\n",
    "  .execute()"
   ]
  }
 ],
 "metadata": {
  "interpreter": {
   "hash": "1ef538eb184aaebad22e1576cbc02a4883cbaf547ee83f087cc18cec7532039b"
  },
  "kernelspec": {
   "display_name": "Python 3.10.2 ('workspace-flight-fusion-jOezzoJ6-py3.10')",
   "language": "python",
   "name": "python3"
  },
  "language_info": {
   "codemirror_mode": {
    "name": "ipython",
    "version": 3
   },
   "file_extension": ".py",
   "mimetype": "text/x-python",
   "name": "python",
   "nbconvert_exporter": "python",
   "pygments_lexer": "ipython3",
   "version": "3.10.2"
  },
  "orig_nbformat": 4
 },
 "nbformat": 4,
 "nbformat_minor": 2
}
