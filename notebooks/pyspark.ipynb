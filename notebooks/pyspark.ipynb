{
 "cells": [
  {
   "cell_type": "code",
   "execution_count": 3,
   "metadata": {},
   "outputs": [],
   "source": [
    "from pyspark.sql import SparkSession\n",
    "from delta import *\n",
    "import pandas as pd\n",
    "import numpy as np\n",
    "\n",
    "builder = SparkSession.builder.appName(\"flight-fusion-test\") \\\n",
    "    .config(\"spark.sql.extensions\", \"io.delta.sql.DeltaSparkSessionExtension\") \\\n",
    "    .config(\"spark.sql.catalog.spark_catalog\", \"org.apache.spark.sql.delta.catalog.DeltaCatalog\")\n",
    "\n",
    "spark = configure_spark_with_delta_pip(builder).getOrCreate()"
   ]
  },
  {
   "cell_type": "code",
   "execution_count": 4,
   "metadata": {},
   "outputs": [
    {
     "data": {
      "text/html": [
       "<div>\n",
       "<style scoped>\n",
       "    .dataframe tbody tr th:only-of-type {\n",
       "        vertical-align: middle;\n",
       "    }\n",
       "\n",
       "    .dataframe tbody tr th {\n",
       "        vertical-align: top;\n",
       "    }\n",
       "\n",
       "    .dataframe thead th {\n",
       "        text-align: right;\n",
       "    }\n",
       "</style>\n",
       "<table border=\"1\" class=\"dataframe\">\n",
       "  <thead>\n",
       "    <tr style=\"text-align: right;\">\n",
       "      <th></th>\n",
       "      <th>col1</th>\n",
       "      <th>col2</th>\n",
       "      <th>col3</th>\n",
       "    </tr>\n",
       "  </thead>\n",
       "  <tbody>\n",
       "    <tr>\n",
       "      <th>0</th>\n",
       "      <td>0.496714</td>\n",
       "      <td>-0.138264</td>\n",
       "      <td>0.647689</td>\n",
       "    </tr>\n",
       "    <tr>\n",
       "      <th>1</th>\n",
       "      <td>1.523030</td>\n",
       "      <td>-0.234153</td>\n",
       "      <td>-0.234137</td>\n",
       "    </tr>\n",
       "    <tr>\n",
       "      <th>2</th>\n",
       "      <td>1.579213</td>\n",
       "      <td>0.767435</td>\n",
       "      <td>-0.469474</td>\n",
       "    </tr>\n",
       "    <tr>\n",
       "      <th>3</th>\n",
       "      <td>0.542560</td>\n",
       "      <td>-0.463418</td>\n",
       "      <td>-0.465730</td>\n",
       "    </tr>\n",
       "    <tr>\n",
       "      <th>4</th>\n",
       "      <td>0.241962</td>\n",
       "      <td>-1.913280</td>\n",
       "      <td>-1.724918</td>\n",
       "    </tr>\n",
       "  </tbody>\n",
       "</table>\n",
       "</div>"
      ],
      "text/plain": [
       "       col1      col2      col3\n",
       "0  0.496714 -0.138264  0.647689\n",
       "1  1.523030 -0.234153 -0.234137\n",
       "2  1.579213  0.767435 -0.469474\n",
       "3  0.542560 -0.463418 -0.465730\n",
       "4  0.241962 -1.913280 -1.724918"
      ]
     },
     "execution_count": 4,
     "metadata": {},
     "output_type": "execute_result"
    }
   ],
   "source": [
    "np.random.seed(42)\n",
    "df = pd.DataFrame(np.random.randn(5, 3), columns=[\"col1\", \"col2\", \"col3\"])\n",
    "\n",
    "df.head()"
   ]
  },
  {
   "cell_type": "code",
   "execution_count": 5,
   "metadata": {},
   "outputs": [
    {
     "name": "stderr",
     "output_type": "stream",
     "text": [
      "                                                                                \r"
     ]
    },
    {
     "name": "stdout",
     "output_type": "stream",
     "text": [
      "+-------------------+--------------------+--------------------+\n",
      "|               col1|                col2|                col3|\n",
      "+-------------------+--------------------+--------------------+\n",
      "| 0.4967141530112327|-0.13826430117118466|  0.6476885381006925|\n",
      "| 1.5230298564080254|-0.23415337472333597|-0.23413695694918055|\n",
      "| 1.5792128155073915|  0.7674347291529088| -0.4694743859349521|\n",
      "| 0.5425600435859647|-0.46341769281246226|-0.46572975357025687|\n",
      "|0.24196227156603412|  -1.913280244657798| -1.7249178325130328|\n",
      "+-------------------+--------------------+--------------------+\n",
      "\n"
     ]
    }
   ],
   "source": [
    "sdf = spark.createDataFrame(df)\n",
    "sdf.show()"
   ]
  },
  {
   "cell_type": "code",
   "execution_count": 8,
   "metadata": {},
   "outputs": [
    {
     "data": {
      "text/plain": [
       "DataFrame[col1: double, col2: double, col3: double]"
      ]
     },
     "execution_count": 8,
     "metadata": {},
     "output_type": "execute_result"
    }
   ],
   "source": [
    "sdf.repartition(1)"
   ]
  },
  {
   "cell_type": "code",
   "execution_count": 10,
   "metadata": {},
   "outputs": [],
   "source": [
    "sdf.repartition(1).write.format(\"delta\").save(\"tmp/delta-table\")"
   ]
  },
  {
   "cell_type": "code",
   "execution_count": 13,
   "metadata": {},
   "outputs": [
    {
     "ename": "AnalysisException",
     "evalue": "Database 'delta' not found",
     "output_type": "error",
     "traceback": [
      "\u001b[0;31m---------------------------------------------------------------------------\u001b[0m",
      "\u001b[0;31mAnalysisException\u001b[0m                         Traceback (most recent call last)",
      "\u001b[1;32m/home/robstar/github/flight-fusion/notebooks/pyspark.ipynb Cell 6'\u001b[0m in \u001b[0;36m<cell line: 1>\u001b[0;34m()\u001b[0m\n\u001b[1;32m      <a href='vscode-notebook-cell://wsl%2Bubuntuargus/home/robstar/github/flight-fusion/notebooks/pyspark.ipynb#ch0000006vscode-remote?line=0'>1</a>\u001b[0m DeltaTable\u001b[39m.\u001b[39;49mcreateIfNotExists(spark) \\\n\u001b[1;32m      <a href='vscode-notebook-cell://wsl%2Bubuntuargus/home/robstar/github/flight-fusion/notebooks/pyspark.ipynb#ch0000006vscode-remote?line=1'>2</a>\u001b[0m   \u001b[39m.\u001b[39;49maddColumn(\u001b[39m\"\u001b[39;49m\u001b[39mid\u001b[39;49m\u001b[39m\"\u001b[39;49m, \u001b[39m\"\u001b[39;49m\u001b[39mINT\u001b[39;49m\u001b[39m\"\u001b[39;49m) \\\n\u001b[1;32m      <a href='vscode-notebook-cell://wsl%2Bubuntuargus/home/robstar/github/flight-fusion/notebooks/pyspark.ipynb#ch0000006vscode-remote?line=2'>3</a>\u001b[0m   \u001b[39m.\u001b[39;49maddColumn(\u001b[39m\"\u001b[39;49m\u001b[39mfirstName\u001b[39;49m\u001b[39m\"\u001b[39;49m, \u001b[39m\"\u001b[39;49m\u001b[39mSTRING\u001b[39;49m\u001b[39m\"\u001b[39;49m) \\\n\u001b[1;32m      <a href='vscode-notebook-cell://wsl%2Bubuntuargus/home/robstar/github/flight-fusion/notebooks/pyspark.ipynb#ch0000006vscode-remote?line=3'>4</a>\u001b[0m   \u001b[39m.\u001b[39;49maddColumn(\u001b[39m\"\u001b[39;49m\u001b[39mmiddleName\u001b[39;49m\u001b[39m\"\u001b[39;49m, \u001b[39m\"\u001b[39;49m\u001b[39mSTRING\u001b[39;49m\u001b[39m\"\u001b[39;49m) \\\n\u001b[1;32m      <a href='vscode-notebook-cell://wsl%2Bubuntuargus/home/robstar/github/flight-fusion/notebooks/pyspark.ipynb#ch0000006vscode-remote?line=4'>5</a>\u001b[0m   \u001b[39m.\u001b[39;49maddColumn(\u001b[39m\"\u001b[39;49m\u001b[39mlastName\u001b[39;49m\u001b[39m\"\u001b[39;49m, \u001b[39m\"\u001b[39;49m\u001b[39mSTRING\u001b[39;49m\u001b[39m\"\u001b[39;49m, comment \u001b[39m=\u001b[39;49m \u001b[39m\"\u001b[39;49m\u001b[39msurname\u001b[39;49m\u001b[39m\"\u001b[39;49m) \\\n\u001b[1;32m      <a href='vscode-notebook-cell://wsl%2Bubuntuargus/home/robstar/github/flight-fusion/notebooks/pyspark.ipynb#ch0000006vscode-remote?line=5'>6</a>\u001b[0m   \u001b[39m.\u001b[39;49maddColumn(\u001b[39m\"\u001b[39;49m\u001b[39mgender\u001b[39;49m\u001b[39m\"\u001b[39;49m, \u001b[39m\"\u001b[39;49m\u001b[39mSTRING\u001b[39;49m\u001b[39m\"\u001b[39;49m) \\\n\u001b[1;32m      <a href='vscode-notebook-cell://wsl%2Bubuntuargus/home/robstar/github/flight-fusion/notebooks/pyspark.ipynb#ch0000006vscode-remote?line=6'>7</a>\u001b[0m   \u001b[39m.\u001b[39;49maddColumn(\u001b[39m\"\u001b[39;49m\u001b[39mbirthDate\u001b[39;49m\u001b[39m\"\u001b[39;49m, \u001b[39m\"\u001b[39;49m\u001b[39mTIMESTAMP\u001b[39;49m\u001b[39m\"\u001b[39;49m) \\\n\u001b[1;32m      <a href='vscode-notebook-cell://wsl%2Bubuntuargus/home/robstar/github/flight-fusion/notebooks/pyspark.ipynb#ch0000006vscode-remote?line=7'>8</a>\u001b[0m   \u001b[39m.\u001b[39;49maddColumn(\u001b[39m\"\u001b[39;49m\u001b[39mssn\u001b[39;49m\u001b[39m\"\u001b[39;49m, \u001b[39m\"\u001b[39;49m\u001b[39mSTRING\u001b[39;49m\u001b[39m\"\u001b[39;49m) \\\n\u001b[1;32m      <a href='vscode-notebook-cell://wsl%2Bubuntuargus/home/robstar/github/flight-fusion/notebooks/pyspark.ipynb#ch0000006vscode-remote?line=8'>9</a>\u001b[0m   \u001b[39m.\u001b[39;49maddColumn(\u001b[39m\"\u001b[39;49m\u001b[39msalary\u001b[39;49m\u001b[39m\"\u001b[39;49m, \u001b[39m\"\u001b[39;49m\u001b[39mINT\u001b[39;49m\u001b[39m\"\u001b[39;49m) \\\n\u001b[1;32m     <a href='vscode-notebook-cell://wsl%2Bubuntuargus/home/robstar/github/flight-fusion/notebooks/pyspark.ipynb#ch0000006vscode-remote?line=9'>10</a>\u001b[0m   \u001b[39m.\u001b[39;49mlocation(\u001b[39m\"\u001b[39;49m\u001b[39mtmp/people\u001b[39;49m\u001b[39m\"\u001b[39;49m) \\\n\u001b[0;32m---> <a href='vscode-notebook-cell://wsl%2Bubuntuargus/home/robstar/github/flight-fusion/notebooks/pyspark.ipynb#ch0000006vscode-remote?line=10'>11</a>\u001b[0m   \u001b[39m.\u001b[39;49mexecute()\n",
      "File \u001b[0;32m~/.cache/pypoetry/virtualenvs/workspace-flight-fusion-jOezzoJ6-py3.10/lib/python3.10/site-packages/delta/tables.py:1092\u001b[0m, in \u001b[0;36mDeltaTableBuilder.execute\u001b[0;34m(self)\u001b[0m\n\u001b[1;32m   <a href='file:///home/robstar/.cache/pypoetry/virtualenvs/workspace-flight-fusion-jOezzoJ6-py3.10/lib/python3.10/site-packages/delta/tables.py?line=1082'>1083</a>\u001b[0m \u001b[39m@since\u001b[39m(\u001b[39m1.0\u001b[39m)  \u001b[39m# type: ignore[arg-type]\u001b[39;00m\n\u001b[1;32m   <a href='file:///home/robstar/.cache/pypoetry/virtualenvs/workspace-flight-fusion-jOezzoJ6-py3.10/lib/python3.10/site-packages/delta/tables.py?line=1083'>1084</a>\u001b[0m \u001b[39mdef\u001b[39;00m \u001b[39mexecute\u001b[39m(\u001b[39mself\u001b[39m) \u001b[39m-\u001b[39m\u001b[39m>\u001b[39m DeltaTable:\n\u001b[1;32m   <a href='file:///home/robstar/.cache/pypoetry/virtualenvs/workspace-flight-fusion-jOezzoJ6-py3.10/lib/python3.10/site-packages/delta/tables.py?line=1084'>1085</a>\u001b[0m     \u001b[39m\"\"\"\u001b[39;00m\n\u001b[1;32m   <a href='file:///home/robstar/.cache/pypoetry/virtualenvs/workspace-flight-fusion-jOezzoJ6-py3.10/lib/python3.10/site-packages/delta/tables.py?line=1085'>1086</a>\u001b[0m \u001b[39m    Execute Table Creation.\u001b[39;00m\n\u001b[1;32m   <a href='file:///home/robstar/.cache/pypoetry/virtualenvs/workspace-flight-fusion-jOezzoJ6-py3.10/lib/python3.10/site-packages/delta/tables.py?line=1086'>1087</a>\u001b[0m \n\u001b[0;32m   (...)\u001b[0m\n\u001b[1;32m   <a href='file:///home/robstar/.cache/pypoetry/virtualenvs/workspace-flight-fusion-jOezzoJ6-py3.10/lib/python3.10/site-packages/delta/tables.py?line=1089'>1090</a>\u001b[0m \u001b[39m    .. note:: Evolving\u001b[39;00m\n\u001b[1;32m   <a href='file:///home/robstar/.cache/pypoetry/virtualenvs/workspace-flight-fusion-jOezzoJ6-py3.10/lib/python3.10/site-packages/delta/tables.py?line=1090'>1091</a>\u001b[0m \u001b[39m    \"\"\"\u001b[39;00m\n\u001b[0;32m-> <a href='file:///home/robstar/.cache/pypoetry/virtualenvs/workspace-flight-fusion-jOezzoJ6-py3.10/lib/python3.10/site-packages/delta/tables.py?line=1091'>1092</a>\u001b[0m     jdt \u001b[39m=\u001b[39m \u001b[39mself\u001b[39;49m\u001b[39m.\u001b[39;49m_jbuilder\u001b[39m.\u001b[39;49mexecute()\n\u001b[1;32m   <a href='file:///home/robstar/.cache/pypoetry/virtualenvs/workspace-flight-fusion-jOezzoJ6-py3.10/lib/python3.10/site-packages/delta/tables.py?line=1092'>1093</a>\u001b[0m     \u001b[39mreturn\u001b[39;00m DeltaTable(\u001b[39mself\u001b[39m\u001b[39m.\u001b[39m_spark, jdt)\n",
      "File \u001b[0;32m~/.cache/pypoetry/virtualenvs/workspace-flight-fusion-jOezzoJ6-py3.10/lib/python3.10/site-packages/py4j/java_gateway.py:1321\u001b[0m, in \u001b[0;36mJavaMember.__call__\u001b[0;34m(self, *args)\u001b[0m\n\u001b[1;32m   <a href='file:///home/robstar/.cache/pypoetry/virtualenvs/workspace-flight-fusion-jOezzoJ6-py3.10/lib/python3.10/site-packages/py4j/java_gateway.py?line=1314'>1315</a>\u001b[0m command \u001b[39m=\u001b[39m proto\u001b[39m.\u001b[39mCALL_COMMAND_NAME \u001b[39m+\u001b[39m\\\n\u001b[1;32m   <a href='file:///home/robstar/.cache/pypoetry/virtualenvs/workspace-flight-fusion-jOezzoJ6-py3.10/lib/python3.10/site-packages/py4j/java_gateway.py?line=1315'>1316</a>\u001b[0m     \u001b[39mself\u001b[39m\u001b[39m.\u001b[39mcommand_header \u001b[39m+\u001b[39m\\\n\u001b[1;32m   <a href='file:///home/robstar/.cache/pypoetry/virtualenvs/workspace-flight-fusion-jOezzoJ6-py3.10/lib/python3.10/site-packages/py4j/java_gateway.py?line=1316'>1317</a>\u001b[0m     args_command \u001b[39m+\u001b[39m\\\n\u001b[1;32m   <a href='file:///home/robstar/.cache/pypoetry/virtualenvs/workspace-flight-fusion-jOezzoJ6-py3.10/lib/python3.10/site-packages/py4j/java_gateway.py?line=1317'>1318</a>\u001b[0m     proto\u001b[39m.\u001b[39mEND_COMMAND_PART\n\u001b[1;32m   <a href='file:///home/robstar/.cache/pypoetry/virtualenvs/workspace-flight-fusion-jOezzoJ6-py3.10/lib/python3.10/site-packages/py4j/java_gateway.py?line=1319'>1320</a>\u001b[0m answer \u001b[39m=\u001b[39m \u001b[39mself\u001b[39m\u001b[39m.\u001b[39mgateway_client\u001b[39m.\u001b[39msend_command(command)\n\u001b[0;32m-> <a href='file:///home/robstar/.cache/pypoetry/virtualenvs/workspace-flight-fusion-jOezzoJ6-py3.10/lib/python3.10/site-packages/py4j/java_gateway.py?line=1320'>1321</a>\u001b[0m return_value \u001b[39m=\u001b[39m get_return_value(\n\u001b[1;32m   <a href='file:///home/robstar/.cache/pypoetry/virtualenvs/workspace-flight-fusion-jOezzoJ6-py3.10/lib/python3.10/site-packages/py4j/java_gateway.py?line=1321'>1322</a>\u001b[0m     answer, \u001b[39mself\u001b[39;49m\u001b[39m.\u001b[39;49mgateway_client, \u001b[39mself\u001b[39;49m\u001b[39m.\u001b[39;49mtarget_id, \u001b[39mself\u001b[39;49m\u001b[39m.\u001b[39;49mname)\n\u001b[1;32m   <a href='file:///home/robstar/.cache/pypoetry/virtualenvs/workspace-flight-fusion-jOezzoJ6-py3.10/lib/python3.10/site-packages/py4j/java_gateway.py?line=1323'>1324</a>\u001b[0m \u001b[39mfor\u001b[39;00m temp_arg \u001b[39min\u001b[39;00m temp_args:\n\u001b[1;32m   <a href='file:///home/robstar/.cache/pypoetry/virtualenvs/workspace-flight-fusion-jOezzoJ6-py3.10/lib/python3.10/site-packages/py4j/java_gateway.py?line=1324'>1325</a>\u001b[0m     temp_arg\u001b[39m.\u001b[39m_detach()\n",
      "File \u001b[0;32m~/.cache/pypoetry/virtualenvs/workspace-flight-fusion-jOezzoJ6-py3.10/lib/python3.10/site-packages/pyspark/sql/utils.py:117\u001b[0m, in \u001b[0;36mcapture_sql_exception.<locals>.deco\u001b[0;34m(*a, **kw)\u001b[0m\n\u001b[1;32m    <a href='file:///home/robstar/.cache/pypoetry/virtualenvs/workspace-flight-fusion-jOezzoJ6-py3.10/lib/python3.10/site-packages/pyspark/sql/utils.py?line=112'>113</a>\u001b[0m converted \u001b[39m=\u001b[39m convert_exception(e\u001b[39m.\u001b[39mjava_exception)\n\u001b[1;32m    <a href='file:///home/robstar/.cache/pypoetry/virtualenvs/workspace-flight-fusion-jOezzoJ6-py3.10/lib/python3.10/site-packages/pyspark/sql/utils.py?line=113'>114</a>\u001b[0m \u001b[39mif\u001b[39;00m \u001b[39mnot\u001b[39;00m \u001b[39misinstance\u001b[39m(converted, UnknownException):\n\u001b[1;32m    <a href='file:///home/robstar/.cache/pypoetry/virtualenvs/workspace-flight-fusion-jOezzoJ6-py3.10/lib/python3.10/site-packages/pyspark/sql/utils.py?line=114'>115</a>\u001b[0m     \u001b[39m# Hide where the exception came from that shows a non-Pythonic\u001b[39;00m\n\u001b[1;32m    <a href='file:///home/robstar/.cache/pypoetry/virtualenvs/workspace-flight-fusion-jOezzoJ6-py3.10/lib/python3.10/site-packages/pyspark/sql/utils.py?line=115'>116</a>\u001b[0m     \u001b[39m# JVM exception message.\u001b[39;00m\n\u001b[0;32m--> <a href='file:///home/robstar/.cache/pypoetry/virtualenvs/workspace-flight-fusion-jOezzoJ6-py3.10/lib/python3.10/site-packages/pyspark/sql/utils.py?line=116'>117</a>\u001b[0m     \u001b[39mraise\u001b[39;00m converted \u001b[39mfrom\u001b[39;00m \u001b[39mNone\u001b[39m\n\u001b[1;32m    <a href='file:///home/robstar/.cache/pypoetry/virtualenvs/workspace-flight-fusion-jOezzoJ6-py3.10/lib/python3.10/site-packages/pyspark/sql/utils.py?line=117'>118</a>\u001b[0m \u001b[39melse\u001b[39;00m:\n\u001b[1;32m    <a href='file:///home/robstar/.cache/pypoetry/virtualenvs/workspace-flight-fusion-jOezzoJ6-py3.10/lib/python3.10/site-packages/pyspark/sql/utils.py?line=118'>119</a>\u001b[0m     \u001b[39mraise\u001b[39;00m\n",
      "\u001b[0;31mAnalysisException\u001b[0m: Database 'delta' not found"
     ]
    }
   ],
   "source": [
    "DeltaTable.createIfNotExists(spark) \\\n",
    "  .tableName(\"people10m\") \\\n",
    "  .addColumn(\"id\", \"INT\") \\\n",
    "  .addColumn(\"firstName\", \"STRING\") \\\n",
    "  .addColumn(\"middleName\", \"STRING\") \\\n",
    "  .addColumn(\"lastName\", \"STRING\", comment = \"surname\") \\\n",
    "  .addColumn(\"gender\", \"STRING\") \\\n",
    "  .addColumn(\"birthDate\", \"TIMESTAMP\") \\\n",
    "  .addColumn(\"ssn\", \"STRING\") \\\n",
    "  .addColumn(\"salary\", \"INT\") \\\n",
    "  .location(\"tmp/people\") \\\n",
    "  .execute()"
   ]
  }
 ],
 "metadata": {
  "interpreter": {
   "hash": "1ef538eb184aaebad22e1576cbc02a4883cbaf547ee83f087cc18cec7532039b"
  },
  "kernelspec": {
   "display_name": "Python 3.10.2 ('workspace-flight-fusion-jOezzoJ6-py3.10')",
   "language": "python",
   "name": "python3"
  },
  "language_info": {
   "codemirror_mode": {
    "name": "ipython",
    "version": 3
   },
   "file_extension": ".py",
   "mimetype": "text/x-python",
   "name": "python",
   "nbconvert_exporter": "python",
   "pygments_lexer": "ipython3",
   "version": "3.10.2"
  },
  "orig_nbformat": 4
 },
 "nbformat": 4,
 "nbformat_minor": 2
}
